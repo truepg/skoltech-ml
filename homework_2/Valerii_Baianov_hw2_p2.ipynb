{
  "nbformat": 4,
  "nbformat_minor": 0,
  "metadata": {
    "accelerator": "GPU",
    "colab": {
      "name": "PART_2_of_HW2.ipynb",
      "provenance": [],
      "collapsed_sections": []
    },
    "kernelspec": {
      "display_name": "Python 3",
      "language": "python",
      "name": "python3"
    },
    "language_info": {
      "codemirror_mode": {
        "name": "ipython",
        "version": 3
      },
      "file_extension": ".py",
      "mimetype": "text/x-python",
      "name": "python",
      "nbconvert_exporter": "python",
      "pygments_lexer": "ipython3",
      "version": "3.8.5"
    },
    "widgets": {
      "application/vnd.jupyter.widget-state+json": {
        "aba917eada944f9b935bafcf1b87f2e9": {
          "model_module": "@jupyter-widgets/controls",
          "model_name": "HBoxModel",
          "state": {
            "_view_name": "HBoxView",
            "_dom_classes": [],
            "_model_name": "HBoxModel",
            "_view_module": "@jupyter-widgets/controls",
            "_model_module_version": "1.5.0",
            "_view_count": null,
            "_view_module_version": "1.5.0",
            "box_style": "",
            "layout": "IPY_MODEL_86cc4d7aa5e942b5b0e69f3ad2f4c2db",
            "_model_module": "@jupyter-widgets/controls",
            "children": [
              "IPY_MODEL_638809490f8d41a0a10e0b74726a693b",
              "IPY_MODEL_c27d6125d56e4b98a9126ac4bf4aa4d1"
            ]
          }
        },
        "86cc4d7aa5e942b5b0e69f3ad2f4c2db": {
          "model_module": "@jupyter-widgets/base",
          "model_name": "LayoutModel",
          "state": {
            "_view_name": "LayoutView",
            "grid_template_rows": null,
            "right": null,
            "justify_content": null,
            "_view_module": "@jupyter-widgets/base",
            "overflow": null,
            "_model_module_version": "1.2.0",
            "_view_count": null,
            "flex_flow": null,
            "width": null,
            "min_width": null,
            "border": null,
            "align_items": null,
            "bottom": null,
            "_model_module": "@jupyter-widgets/base",
            "top": null,
            "grid_column": null,
            "overflow_y": null,
            "overflow_x": null,
            "grid_auto_flow": null,
            "grid_area": null,
            "grid_template_columns": null,
            "flex": null,
            "_model_name": "LayoutModel",
            "justify_items": null,
            "grid_row": null,
            "max_height": null,
            "align_content": null,
            "visibility": null,
            "align_self": null,
            "height": null,
            "min_height": null,
            "padding": null,
            "grid_auto_rows": null,
            "grid_gap": null,
            "max_width": null,
            "order": null,
            "_view_module_version": "1.2.0",
            "grid_template_areas": null,
            "object_position": null,
            "object_fit": null,
            "grid_auto_columns": null,
            "margin": null,
            "display": null,
            "left": null
          }
        },
        "638809490f8d41a0a10e0b74726a693b": {
          "model_module": "@jupyter-widgets/controls",
          "model_name": "FloatProgressModel",
          "state": {
            "_view_name": "ProgressView",
            "style": "IPY_MODEL_35c4675a4e43460db9e941e2f8c53ac2",
            "_dom_classes": [],
            "description": "",
            "_model_name": "FloatProgressModel",
            "bar_style": "success",
            "max": 18165135,
            "_view_module": "@jupyter-widgets/controls",
            "_model_module_version": "1.5.0",
            "value": 18165135,
            "_view_count": null,
            "_view_module_version": "1.5.0",
            "orientation": "horizontal",
            "min": 0,
            "description_tooltip": null,
            "_model_module": "@jupyter-widgets/controls",
            "layout": "IPY_MODEL_bbdc4bee8921498bad8469033f5554d1"
          }
        },
        "c27d6125d56e4b98a9126ac4bf4aa4d1": {
          "model_module": "@jupyter-widgets/controls",
          "model_name": "HTMLModel",
          "state": {
            "_view_name": "HTMLView",
            "style": "IPY_MODEL_919f15e14afc4428bba3494fbf024078",
            "_dom_classes": [],
            "description": "",
            "_model_name": "HTMLModel",
            "placeholder": "​",
            "_view_module": "@jupyter-widgets/controls",
            "_model_module_version": "1.5.0",
            "value": " 18165760/? [00:10&lt;00:00, 1722651.95it/s]",
            "_view_count": null,
            "_view_module_version": "1.5.0",
            "description_tooltip": null,
            "_model_module": "@jupyter-widgets/controls",
            "layout": "IPY_MODEL_fa91724110ec477f8123d12742d6d973"
          }
        },
        "35c4675a4e43460db9e941e2f8c53ac2": {
          "model_module": "@jupyter-widgets/controls",
          "model_name": "ProgressStyleModel",
          "state": {
            "_view_name": "StyleView",
            "_model_name": "ProgressStyleModel",
            "description_width": "initial",
            "_view_module": "@jupyter-widgets/base",
            "_model_module_version": "1.5.0",
            "_view_count": null,
            "_view_module_version": "1.2.0",
            "bar_color": null,
            "_model_module": "@jupyter-widgets/controls"
          }
        },
        "bbdc4bee8921498bad8469033f5554d1": {
          "model_module": "@jupyter-widgets/base",
          "model_name": "LayoutModel",
          "state": {
            "_view_name": "LayoutView",
            "grid_template_rows": null,
            "right": null,
            "justify_content": null,
            "_view_module": "@jupyter-widgets/base",
            "overflow": null,
            "_model_module_version": "1.2.0",
            "_view_count": null,
            "flex_flow": null,
            "width": null,
            "min_width": null,
            "border": null,
            "align_items": null,
            "bottom": null,
            "_model_module": "@jupyter-widgets/base",
            "top": null,
            "grid_column": null,
            "overflow_y": null,
            "overflow_x": null,
            "grid_auto_flow": null,
            "grid_area": null,
            "grid_template_columns": null,
            "flex": null,
            "_model_name": "LayoutModel",
            "justify_items": null,
            "grid_row": null,
            "max_height": null,
            "align_content": null,
            "visibility": null,
            "align_self": null,
            "height": null,
            "min_height": null,
            "padding": null,
            "grid_auto_rows": null,
            "grid_gap": null,
            "max_width": null,
            "order": null,
            "_view_module_version": "1.2.0",
            "grid_template_areas": null,
            "object_position": null,
            "object_fit": null,
            "grid_auto_columns": null,
            "margin": null,
            "display": null,
            "left": null
          }
        },
        "919f15e14afc4428bba3494fbf024078": {
          "model_module": "@jupyter-widgets/controls",
          "model_name": "DescriptionStyleModel",
          "state": {
            "_view_name": "StyleView",
            "_model_name": "DescriptionStyleModel",
            "description_width": "",
            "_view_module": "@jupyter-widgets/base",
            "_model_module_version": "1.5.0",
            "_view_count": null,
            "_view_module_version": "1.2.0",
            "_model_module": "@jupyter-widgets/controls"
          }
        },
        "fa91724110ec477f8123d12742d6d973": {
          "model_module": "@jupyter-widgets/base",
          "model_name": "LayoutModel",
          "state": {
            "_view_name": "LayoutView",
            "grid_template_rows": null,
            "right": null,
            "justify_content": null,
            "_view_module": "@jupyter-widgets/base",
            "overflow": null,
            "_model_module_version": "1.2.0",
            "_view_count": null,
            "flex_flow": null,
            "width": null,
            "min_width": null,
            "border": null,
            "align_items": null,
            "bottom": null,
            "_model_module": "@jupyter-widgets/base",
            "top": null,
            "grid_column": null,
            "overflow_y": null,
            "overflow_x": null,
            "grid_auto_flow": null,
            "grid_area": null,
            "grid_template_columns": null,
            "flex": null,
            "_model_name": "LayoutModel",
            "justify_items": null,
            "grid_row": null,
            "max_height": null,
            "align_content": null,
            "visibility": null,
            "align_self": null,
            "height": null,
            "min_height": null,
            "padding": null,
            "grid_auto_rows": null,
            "grid_gap": null,
            "max_width": null,
            "order": null,
            "_view_module_version": "1.2.0",
            "grid_template_areas": null,
            "object_position": null,
            "object_fit": null,
            "grid_auto_columns": null,
            "margin": null,
            "display": null,
            "left": null
          }
        },
        "d4c90ce175ba4c3184e8ee01a540cddb": {
          "model_module": "@jupyter-widgets/controls",
          "model_name": "HBoxModel",
          "state": {
            "_view_name": "HBoxView",
            "_dom_classes": [],
            "_model_name": "HBoxModel",
            "_view_module": "@jupyter-widgets/controls",
            "_model_module_version": "1.5.0",
            "_view_count": null,
            "_view_module_version": "1.5.0",
            "box_style": "",
            "layout": "IPY_MODEL_654792748fd247d096522f934d7b2800",
            "_model_module": "@jupyter-widgets/controls",
            "children": [
              "IPY_MODEL_377dc4468bbb4cd4802802c3c5025067",
              "IPY_MODEL_1221f1c4e78045e98ace00158b3a0c36"
            ]
          }
        },
        "654792748fd247d096522f934d7b2800": {
          "model_module": "@jupyter-widgets/base",
          "model_name": "LayoutModel",
          "state": {
            "_view_name": "LayoutView",
            "grid_template_rows": null,
            "right": null,
            "justify_content": null,
            "_view_module": "@jupyter-widgets/base",
            "overflow": null,
            "_model_module_version": "1.2.0",
            "_view_count": null,
            "flex_flow": null,
            "width": null,
            "min_width": null,
            "border": null,
            "align_items": null,
            "bottom": null,
            "_model_module": "@jupyter-widgets/base",
            "top": null,
            "grid_column": null,
            "overflow_y": null,
            "overflow_x": null,
            "grid_auto_flow": null,
            "grid_area": null,
            "grid_template_columns": null,
            "flex": null,
            "_model_name": "LayoutModel",
            "justify_items": null,
            "grid_row": null,
            "max_height": null,
            "align_content": null,
            "visibility": null,
            "align_self": null,
            "height": null,
            "min_height": null,
            "padding": null,
            "grid_auto_rows": null,
            "grid_gap": null,
            "max_width": null,
            "order": null,
            "_view_module_version": "1.2.0",
            "grid_template_areas": null,
            "object_position": null,
            "object_fit": null,
            "grid_auto_columns": null,
            "margin": null,
            "display": null,
            "left": null
          }
        },
        "377dc4468bbb4cd4802802c3c5025067": {
          "model_module": "@jupyter-widgets/controls",
          "model_name": "FloatProgressModel",
          "state": {
            "_view_name": "ProgressView",
            "style": "IPY_MODEL_106253d148e34147b702cd5b1d3e4d71",
            "_dom_classes": [],
            "description": "",
            "_model_name": "FloatProgressModel",
            "bar_style": "success",
            "max": 29497,
            "_view_module": "@jupyter-widgets/controls",
            "_model_module_version": "1.5.0",
            "value": 29497,
            "_view_count": null,
            "_view_module_version": "1.5.0",
            "orientation": "horizontal",
            "min": 0,
            "description_tooltip": null,
            "_model_module": "@jupyter-widgets/controls",
            "layout": "IPY_MODEL_11f69cc34f2141919106af76845a2dc1"
          }
        },
        "1221f1c4e78045e98ace00158b3a0c36": {
          "model_module": "@jupyter-widgets/controls",
          "model_name": "HTMLModel",
          "state": {
            "_view_name": "HTMLView",
            "style": "IPY_MODEL_1cda5f4a31ba42489ffa7eff7e640f51",
            "_dom_classes": [],
            "description": "",
            "_model_name": "HTMLModel",
            "placeholder": "​",
            "_view_module": "@jupyter-widgets/controls",
            "_model_module_version": "1.5.0",
            "value": " 29696/? [00:03&lt;00:00, 8833.02it/s]",
            "_view_count": null,
            "_view_module_version": "1.5.0",
            "description_tooltip": null,
            "_model_module": "@jupyter-widgets/controls",
            "layout": "IPY_MODEL_f69cfa7ad40747989e4eae506c7a0548"
          }
        },
        "106253d148e34147b702cd5b1d3e4d71": {
          "model_module": "@jupyter-widgets/controls",
          "model_name": "ProgressStyleModel",
          "state": {
            "_view_name": "StyleView",
            "_model_name": "ProgressStyleModel",
            "description_width": "initial",
            "_view_module": "@jupyter-widgets/base",
            "_model_module_version": "1.5.0",
            "_view_count": null,
            "_view_module_version": "1.2.0",
            "bar_color": null,
            "_model_module": "@jupyter-widgets/controls"
          }
        },
        "11f69cc34f2141919106af76845a2dc1": {
          "model_module": "@jupyter-widgets/base",
          "model_name": "LayoutModel",
          "state": {
            "_view_name": "LayoutView",
            "grid_template_rows": null,
            "right": null,
            "justify_content": null,
            "_view_module": "@jupyter-widgets/base",
            "overflow": null,
            "_model_module_version": "1.2.0",
            "_view_count": null,
            "flex_flow": null,
            "width": null,
            "min_width": null,
            "border": null,
            "align_items": null,
            "bottom": null,
            "_model_module": "@jupyter-widgets/base",
            "top": null,
            "grid_column": null,
            "overflow_y": null,
            "overflow_x": null,
            "grid_auto_flow": null,
            "grid_area": null,
            "grid_template_columns": null,
            "flex": null,
            "_model_name": "LayoutModel",
            "justify_items": null,
            "grid_row": null,
            "max_height": null,
            "align_content": null,
            "visibility": null,
            "align_self": null,
            "height": null,
            "min_height": null,
            "padding": null,
            "grid_auto_rows": null,
            "grid_gap": null,
            "max_width": null,
            "order": null,
            "_view_module_version": "1.2.0",
            "grid_template_areas": null,
            "object_position": null,
            "object_fit": null,
            "grid_auto_columns": null,
            "margin": null,
            "display": null,
            "left": null
          }
        },
        "1cda5f4a31ba42489ffa7eff7e640f51": {
          "model_module": "@jupyter-widgets/controls",
          "model_name": "DescriptionStyleModel",
          "state": {
            "_view_name": "StyleView",
            "_model_name": "DescriptionStyleModel",
            "description_width": "",
            "_view_module": "@jupyter-widgets/base",
            "_model_module_version": "1.5.0",
            "_view_count": null,
            "_view_module_version": "1.2.0",
            "_model_module": "@jupyter-widgets/controls"
          }
        },
        "f69cfa7ad40747989e4eae506c7a0548": {
          "model_module": "@jupyter-widgets/base",
          "model_name": "LayoutModel",
          "state": {
            "_view_name": "LayoutView",
            "grid_template_rows": null,
            "right": null,
            "justify_content": null,
            "_view_module": "@jupyter-widgets/base",
            "overflow": null,
            "_model_module_version": "1.2.0",
            "_view_count": null,
            "flex_flow": null,
            "width": null,
            "min_width": null,
            "border": null,
            "align_items": null,
            "bottom": null,
            "_model_module": "@jupyter-widgets/base",
            "top": null,
            "grid_column": null,
            "overflow_y": null,
            "overflow_x": null,
            "grid_auto_flow": null,
            "grid_area": null,
            "grid_template_columns": null,
            "flex": null,
            "_model_name": "LayoutModel",
            "justify_items": null,
            "grid_row": null,
            "max_height": null,
            "align_content": null,
            "visibility": null,
            "align_self": null,
            "height": null,
            "min_height": null,
            "padding": null,
            "grid_auto_rows": null,
            "grid_gap": null,
            "max_width": null,
            "order": null,
            "_view_module_version": "1.2.0",
            "grid_template_areas": null,
            "object_position": null,
            "object_fit": null,
            "grid_auto_columns": null,
            "margin": null,
            "display": null,
            "left": null
          }
        },
        "eb9fcbf66e9542bb97bfa0fd0cc6fe68": {
          "model_module": "@jupyter-widgets/controls",
          "model_name": "HBoxModel",
          "state": {
            "_view_name": "HBoxView",
            "_dom_classes": [],
            "_model_name": "HBoxModel",
            "_view_module": "@jupyter-widgets/controls",
            "_model_module_version": "1.5.0",
            "_view_count": null,
            "_view_module_version": "1.5.0",
            "box_style": "",
            "layout": "IPY_MODEL_855bb587a8344994aef35fb250cc5c00",
            "_model_module": "@jupyter-widgets/controls",
            "children": [
              "IPY_MODEL_08c5287c8449460d8657b4a94afb6fb6",
              "IPY_MODEL_5678643ffb674c768b0c33126f71b5c5"
            ]
          }
        },
        "855bb587a8344994aef35fb250cc5c00": {
          "model_module": "@jupyter-widgets/base",
          "model_name": "LayoutModel",
          "state": {
            "_view_name": "LayoutView",
            "grid_template_rows": null,
            "right": null,
            "justify_content": null,
            "_view_module": "@jupyter-widgets/base",
            "overflow": null,
            "_model_module_version": "1.2.0",
            "_view_count": null,
            "flex_flow": null,
            "width": null,
            "min_width": null,
            "border": null,
            "align_items": null,
            "bottom": null,
            "_model_module": "@jupyter-widgets/base",
            "top": null,
            "grid_column": null,
            "overflow_y": null,
            "overflow_x": null,
            "grid_auto_flow": null,
            "grid_area": null,
            "grid_template_columns": null,
            "flex": null,
            "_model_name": "LayoutModel",
            "justify_items": null,
            "grid_row": null,
            "max_height": null,
            "align_content": null,
            "visibility": null,
            "align_self": null,
            "height": null,
            "min_height": null,
            "padding": null,
            "grid_auto_rows": null,
            "grid_gap": null,
            "max_width": null,
            "order": null,
            "_view_module_version": "1.2.0",
            "grid_template_areas": null,
            "object_position": null,
            "object_fit": null,
            "grid_auto_columns": null,
            "margin": null,
            "display": null,
            "left": null
          }
        },
        "08c5287c8449460d8657b4a94afb6fb6": {
          "model_module": "@jupyter-widgets/controls",
          "model_name": "FloatProgressModel",
          "state": {
            "_view_name": "ProgressView",
            "style": "IPY_MODEL_dafa9e72e3e147ee84b682b09a16cbd1",
            "_dom_classes": [],
            "description": "",
            "_model_name": "FloatProgressModel",
            "bar_style": "success",
            "max": 3041136,
            "_view_module": "@jupyter-widgets/controls",
            "_model_module_version": "1.5.0",
            "value": 3041136,
            "_view_count": null,
            "_view_module_version": "1.5.0",
            "orientation": "horizontal",
            "min": 0,
            "description_tooltip": null,
            "_model_module": "@jupyter-widgets/controls",
            "layout": "IPY_MODEL_1f8434e0e37145baaf1534073ff2ebe2"
          }
        },
        "5678643ffb674c768b0c33126f71b5c5": {
          "model_module": "@jupyter-widgets/controls",
          "model_name": "HTMLModel",
          "state": {
            "_view_name": "HTMLView",
            "style": "IPY_MODEL_096b3439f71342e99e4190fb8d75968c",
            "_dom_classes": [],
            "description": "",
            "_model_name": "HTMLModel",
            "placeholder": "​",
            "_view_module": "@jupyter-widgets/controls",
            "_model_module_version": "1.5.0",
            "value": " 3041280/? [00:01&lt;00:00, 2292966.59it/s]",
            "_view_count": null,
            "_view_module_version": "1.5.0",
            "description_tooltip": null,
            "_model_module": "@jupyter-widgets/controls",
            "layout": "IPY_MODEL_071fa25e6b8246918309cfb550f023b0"
          }
        },
        "dafa9e72e3e147ee84b682b09a16cbd1": {
          "model_module": "@jupyter-widgets/controls",
          "model_name": "ProgressStyleModel",
          "state": {
            "_view_name": "StyleView",
            "_model_name": "ProgressStyleModel",
            "description_width": "initial",
            "_view_module": "@jupyter-widgets/base",
            "_model_module_version": "1.5.0",
            "_view_count": null,
            "_view_module_version": "1.2.0",
            "bar_color": null,
            "_model_module": "@jupyter-widgets/controls"
          }
        },
        "1f8434e0e37145baaf1534073ff2ebe2": {
          "model_module": "@jupyter-widgets/base",
          "model_name": "LayoutModel",
          "state": {
            "_view_name": "LayoutView",
            "grid_template_rows": null,
            "right": null,
            "justify_content": null,
            "_view_module": "@jupyter-widgets/base",
            "overflow": null,
            "_model_module_version": "1.2.0",
            "_view_count": null,
            "flex_flow": null,
            "width": null,
            "min_width": null,
            "border": null,
            "align_items": null,
            "bottom": null,
            "_model_module": "@jupyter-widgets/base",
            "top": null,
            "grid_column": null,
            "overflow_y": null,
            "overflow_x": null,
            "grid_auto_flow": null,
            "grid_area": null,
            "grid_template_columns": null,
            "flex": null,
            "_model_name": "LayoutModel",
            "justify_items": null,
            "grid_row": null,
            "max_height": null,
            "align_content": null,
            "visibility": null,
            "align_self": null,
            "height": null,
            "min_height": null,
            "padding": null,
            "grid_auto_rows": null,
            "grid_gap": null,
            "max_width": null,
            "order": null,
            "_view_module_version": "1.2.0",
            "grid_template_areas": null,
            "object_position": null,
            "object_fit": null,
            "grid_auto_columns": null,
            "margin": null,
            "display": null,
            "left": null
          }
        },
        "096b3439f71342e99e4190fb8d75968c": {
          "model_module": "@jupyter-widgets/controls",
          "model_name": "DescriptionStyleModel",
          "state": {
            "_view_name": "StyleView",
            "_model_name": "DescriptionStyleModel",
            "description_width": "",
            "_view_module": "@jupyter-widgets/base",
            "_model_module_version": "1.5.0",
            "_view_count": null,
            "_view_module_version": "1.2.0",
            "_model_module": "@jupyter-widgets/controls"
          }
        },
        "071fa25e6b8246918309cfb550f023b0": {
          "model_module": "@jupyter-widgets/base",
          "model_name": "LayoutModel",
          "state": {
            "_view_name": "LayoutView",
            "grid_template_rows": null,
            "right": null,
            "justify_content": null,
            "_view_module": "@jupyter-widgets/base",
            "overflow": null,
            "_model_module_version": "1.2.0",
            "_view_count": null,
            "flex_flow": null,
            "width": null,
            "min_width": null,
            "border": null,
            "align_items": null,
            "bottom": null,
            "_model_module": "@jupyter-widgets/base",
            "top": null,
            "grid_column": null,
            "overflow_y": null,
            "overflow_x": null,
            "grid_auto_flow": null,
            "grid_area": null,
            "grid_template_columns": null,
            "flex": null,
            "_model_name": "LayoutModel",
            "justify_items": null,
            "grid_row": null,
            "max_height": null,
            "align_content": null,
            "visibility": null,
            "align_self": null,
            "height": null,
            "min_height": null,
            "padding": null,
            "grid_auto_rows": null,
            "grid_gap": null,
            "max_width": null,
            "order": null,
            "_view_module_version": "1.2.0",
            "grid_template_areas": null,
            "object_position": null,
            "object_fit": null,
            "grid_auto_columns": null,
            "margin": null,
            "display": null,
            "left": null
          }
        },
        "618fb59893b044f68955a06f989240f7": {
          "model_module": "@jupyter-widgets/controls",
          "model_name": "HBoxModel",
          "state": {
            "_view_name": "HBoxView",
            "_dom_classes": [],
            "_model_name": "HBoxModel",
            "_view_module": "@jupyter-widgets/controls",
            "_model_module_version": "1.5.0",
            "_view_count": null,
            "_view_module_version": "1.5.0",
            "box_style": "",
            "layout": "IPY_MODEL_7b954709cb27426f9b9b22bd9006b698",
            "_model_module": "@jupyter-widgets/controls",
            "children": [
              "IPY_MODEL_76c3940a60c8422695307a787de0452c",
              "IPY_MODEL_90a410bd894d4575abad991e0af1c2e4"
            ]
          }
        },
        "7b954709cb27426f9b9b22bd9006b698": {
          "model_module": "@jupyter-widgets/base",
          "model_name": "LayoutModel",
          "state": {
            "_view_name": "LayoutView",
            "grid_template_rows": null,
            "right": null,
            "justify_content": null,
            "_view_module": "@jupyter-widgets/base",
            "overflow": null,
            "_model_module_version": "1.2.0",
            "_view_count": null,
            "flex_flow": null,
            "width": null,
            "min_width": null,
            "border": null,
            "align_items": null,
            "bottom": null,
            "_model_module": "@jupyter-widgets/base",
            "top": null,
            "grid_column": null,
            "overflow_y": null,
            "overflow_x": null,
            "grid_auto_flow": null,
            "grid_area": null,
            "grid_template_columns": null,
            "flex": null,
            "_model_name": "LayoutModel",
            "justify_items": null,
            "grid_row": null,
            "max_height": null,
            "align_content": null,
            "visibility": null,
            "align_self": null,
            "height": null,
            "min_height": null,
            "padding": null,
            "grid_auto_rows": null,
            "grid_gap": null,
            "max_width": null,
            "order": null,
            "_view_module_version": "1.2.0",
            "grid_template_areas": null,
            "object_position": null,
            "object_fit": null,
            "grid_auto_columns": null,
            "margin": null,
            "display": null,
            "left": null
          }
        },
        "76c3940a60c8422695307a787de0452c": {
          "model_module": "@jupyter-widgets/controls",
          "model_name": "FloatProgressModel",
          "state": {
            "_view_name": "ProgressView",
            "style": "IPY_MODEL_57e338e2527745c6863f4a3dda30b883",
            "_dom_classes": [],
            "description": "100%",
            "_model_name": "FloatProgressModel",
            "bar_style": "success",
            "max": 5120,
            "_view_module": "@jupyter-widgets/controls",
            "_model_module_version": "1.5.0",
            "value": 5120,
            "_view_count": null,
            "_view_module_version": "1.5.0",
            "orientation": "horizontal",
            "min": 0,
            "description_tooltip": null,
            "_model_module": "@jupyter-widgets/controls",
            "layout": "IPY_MODEL_85d7a3f3584243a6a10e8e132fbbd9b2"
          }
        },
        "90a410bd894d4575abad991e0af1c2e4": {
          "model_module": "@jupyter-widgets/controls",
          "model_name": "HTMLModel",
          "state": {
            "_view_name": "HTMLView",
            "style": "IPY_MODEL_fbc10148fe7e458cadf734f5e3d5008e",
            "_dom_classes": [],
            "description": "",
            "_model_name": "HTMLModel",
            "placeholder": "​",
            "_view_module": "@jupyter-widgets/controls",
            "_model_module_version": "1.5.0",
            "value": " 5120/5120 [00:00&lt;00:00, 9071.42it/s]",
            "_view_count": null,
            "_view_module_version": "1.5.0",
            "description_tooltip": null,
            "_model_module": "@jupyter-widgets/controls",
            "layout": "IPY_MODEL_41e71b880786469ba3ff0c85478ffe56"
          }
        },
        "57e338e2527745c6863f4a3dda30b883": {
          "model_module": "@jupyter-widgets/controls",
          "model_name": "ProgressStyleModel",
          "state": {
            "_view_name": "StyleView",
            "_model_name": "ProgressStyleModel",
            "description_width": "initial",
            "_view_module": "@jupyter-widgets/base",
            "_model_module_version": "1.5.0",
            "_view_count": null,
            "_view_module_version": "1.2.0",
            "bar_color": null,
            "_model_module": "@jupyter-widgets/controls"
          }
        },
        "85d7a3f3584243a6a10e8e132fbbd9b2": {
          "model_module": "@jupyter-widgets/base",
          "model_name": "LayoutModel",
          "state": {
            "_view_name": "LayoutView",
            "grid_template_rows": null,
            "right": null,
            "justify_content": null,
            "_view_module": "@jupyter-widgets/base",
            "overflow": null,
            "_model_module_version": "1.2.0",
            "_view_count": null,
            "flex_flow": null,
            "width": null,
            "min_width": null,
            "border": null,
            "align_items": null,
            "bottom": null,
            "_model_module": "@jupyter-widgets/base",
            "top": null,
            "grid_column": null,
            "overflow_y": null,
            "overflow_x": null,
            "grid_auto_flow": null,
            "grid_area": null,
            "grid_template_columns": null,
            "flex": null,
            "_model_name": "LayoutModel",
            "justify_items": null,
            "grid_row": null,
            "max_height": null,
            "align_content": null,
            "visibility": null,
            "align_self": null,
            "height": null,
            "min_height": null,
            "padding": null,
            "grid_auto_rows": null,
            "grid_gap": null,
            "max_width": null,
            "order": null,
            "_view_module_version": "1.2.0",
            "grid_template_areas": null,
            "object_position": null,
            "object_fit": null,
            "grid_auto_columns": null,
            "margin": null,
            "display": null,
            "left": null
          }
        },
        "fbc10148fe7e458cadf734f5e3d5008e": {
          "model_module": "@jupyter-widgets/controls",
          "model_name": "DescriptionStyleModel",
          "state": {
            "_view_name": "StyleView",
            "_model_name": "DescriptionStyleModel",
            "description_width": "",
            "_view_module": "@jupyter-widgets/base",
            "_model_module_version": "1.5.0",
            "_view_count": null,
            "_view_module_version": "1.2.0",
            "_model_module": "@jupyter-widgets/controls"
          }
        },
        "41e71b880786469ba3ff0c85478ffe56": {
          "model_module": "@jupyter-widgets/base",
          "model_name": "LayoutModel",
          "state": {
            "_view_name": "LayoutView",
            "grid_template_rows": null,
            "right": null,
            "justify_content": null,
            "_view_module": "@jupyter-widgets/base",
            "overflow": null,
            "_model_module_version": "1.2.0",
            "_view_count": null,
            "flex_flow": null,
            "width": null,
            "min_width": null,
            "border": null,
            "align_items": null,
            "bottom": null,
            "_model_module": "@jupyter-widgets/base",
            "top": null,
            "grid_column": null,
            "overflow_y": null,
            "overflow_x": null,
            "grid_auto_flow": null,
            "grid_area": null,
            "grid_template_columns": null,
            "flex": null,
            "_model_name": "LayoutModel",
            "justify_items": null,
            "grid_row": null,
            "max_height": null,
            "align_content": null,
            "visibility": null,
            "align_self": null,
            "height": null,
            "min_height": null,
            "padding": null,
            "grid_auto_rows": null,
            "grid_gap": null,
            "max_width": null,
            "order": null,
            "_view_module_version": "1.2.0",
            "grid_template_areas": null,
            "object_position": null,
            "object_fit": null,
            "grid_auto_columns": null,
            "margin": null,
            "display": null,
            "left": null
          }
        }
      }
    }
  },
  "cells": [
    {
      "cell_type": "markdown",
      "metadata": {
        "id": "bWEEBnVC-Irv"
      },
      "source": [
        "# Home Assignment No. 2 - part two\n",
        "\n",
        "To solve this task, you will write a lot of code to try several machine learning methods for classification and regression.\n",
        "* You are **HIGHLY RECOMMENDED** to read relevant documentation, e.g. for [python](https://docs.python.org/3/), [numpy](https://docs.scipy.org/doc/numpy/reference/), [matlpotlib](https://matplotlib.org/) and [sklearn](https://scikit-learn.org/stable/). Also remember that seminars, lecture slides, [Google](http://google.com) and [StackOverflow](https://stackoverflow.com/) are your close friends during this course (and, probably, whole life?).\n",
        "\n",
        "* If you want an easy life, you have to use **BUILT-IN METHODS** of `sklearn` library instead of writing tons of your own code. There exists a class/method for almost everything you can imagine (related to this homework).\n",
        "\n",
        "* You have to write **CODE** directly inside specified places marked by comments: **BEGIN/END Solution**. Do not create new cells.\n",
        "\n",
        "* In some problems you are asked to provide a short discussion of the results. For that find the specific place marked via **Your text answer: \\<write your answer\\>**.\n",
        "\n",
        "* For every separate problem or subproblem (if specified) you can get only 0 points or maximal points for this problem. There are **NO INTERMEDIATE scores**. So make sure that you did everything required in the task.\n",
        "\n",
        "* Your **SOLUTION** notebook **MUST BE REPRODUCIBLE**, i.e., if the reviewer decides to restart the notebook and run all cells, after all the computation he will obtain exactly the same solution (with all the corresponding plots) as in your uploaded notebook. For this purpose, we suggest fixing random `seed` or (better) define `random_state=` inside every algorithm that uses some pseudorandomness.\n",
        "\n",
        "* Your code must be clear to the reviewer. For this purpose, try to include necessary comments inside the code. But remember: **GOOD CODE MUST BE SELF-EXPLANATORY** without any additional comments.\n",
        "\n",
        "* Many `sklearn` algorithms support multithreading (Ensemble Methods, Cross-Validation, etc.). Check if the particular algorithm has `n_jobs` parameters and set it to `-1` to use all the cores.\n"
      ]
    },
    {
      "cell_type": "markdown",
      "metadata": {
        "id": "ddR3sf3P82Ht"
      },
      "source": [
        "## Task 6. Deep ANNs. (3 points)\n",
        "\n",
        "-  **(1 pt.)** Activation functions; **(sub tasks 6.1)**\n",
        "-  **(2 pt.)** MNIST classification.  **(sub tasks 6.2)**\n",
        "\n",
        "\n",
        "\n",
        "### Task 6.1  Activation functions. \n",
        "Plot the following [activation functions](https://pytorch.org/docs/master/nn.html#non-linear-activation-functions) using their PyTorch implementation and their derivatives using [autograd](https://pytorch.org/docs/stable/autograd.html) functionality `grad()`:\n",
        "   \n",
        "1. Plot `ReLU`, `ELU` ($\\alpha = 1$), `Softplus` ($\\beta = 1$) and `Sign`, `Sigmoid`, `Softsign`, `Tanh`.\n"
      ]
    },
    {
      "cell_type": "code",
      "metadata": {
        "colab": {
          "base_uri": "https://localhost:8080/",
          "height": 369
        },
        "id": "hcF-2GHz8wMz",
        "outputId": "416e9cb3-a6eb-4ba7-ec10-30280e87bd15"
      },
      "source": [
        "%matplotlib inline\n",
        "import torch.nn.functional as F\n",
        "import matplotlib.pyplot as plt\n",
        "import torch\n",
        "\n",
        "x = torch.arange(-2, 2, .01, requires_grad=True)\n",
        "x_np = x.detach().numpy()\n",
        "x.sum().backward() # to create x.grad\n",
        "\n",
        "f, axes = plt.subplots(2, 2, sharex=True, figsize=(14, 5))\n",
        "axes[0, 0].set_title('Values')\n",
        "axes[0, 1].set_title('Derivatives')\n",
        "\n",
        "for i, function_set in (0, (('ReLU', F.relu), ('ELU', F.elu), ('Softplus', F.softplus))), \\\n",
        "                       (1, (('Sign', torch.sign), ('Sigmoid', torch.sigmoid), ('Softsign', F.softsign), ('Tanh', torch.tanh))):\n",
        "    for function_name, activation in function_set:\n",
        "        ### BEGIN Solution\n",
        "            activation_vals = activation(x)\n",
        "            axes[i, 0].plot(x_np, activation_vals.detach().numpy(), label=function_name)\n",
        "\n",
        "            x.grad.zero_()\n",
        "            activation_vals.sum().backward()\n",
        "            axes[i, 1].plot(x_np, x.grad, label=function_name)\n",
        "\n",
        "        ### END Solution\n",
        "\n",
        "    axes[i, 0].legend()\n",
        "    axes[i, 1].legend()\n",
        "\n",
        "plt.tight_layout()\n",
        "plt.show()"
      ],
      "execution_count": 1,
      "outputs": [
        {
          "output_type": "display_data",
          "data": {
            "image/png": "[encoded data removed]",
            "text/plain": [
              "<Figure size 1008x360 with 4 Axes>"
            ]
          },
          "metadata": {
            "tags": [],
            "needs_background": "light"
          }
        }
      ]
    },
    {
      "cell_type": "markdown",
      "metadata": {
        "id": "_misNcjO8wXF"
      },
      "source": [
        "Which of these functions may be, and which - definitely, are a poor choise as an activation function in a neural network? Why? Do not forget that output of the current layer servers as an input for the following one. Imagine a situation where we have many layers, what happens with the activation values?\n",
        "\n",
        "\n",
        "\n",
        "\n",
        "\n"
      ]
    },
    {
      "cell_type": "code",
      "metadata": {
        "id": "EzfGaZHsKyJy"
      },
      "source": [
        "# BEGIN SOLUTION (do not delete this comment!)\n",
        "\n",
        "# In case of many layers:\n",
        "# *   ReLU: it may be a poor choice for non-positive input values because of\n",
        "#           zero gradients that leads to inability to perform backpropogation.\n",
        "# *   ELU: it's ok.\n",
        "# *   Softplus: it's ok.\n",
        "# *   Sign: definitely poor choice because of constant zero gradients that leads\n",
        "#              to inability to perfrom backpropogation.\n",
        "#           \n",
        "# *   Sigmoid: definitely poor choiсe because of the low absolute values of derivative that \n",
        "#              may lead to vanishing gradient problem, considering a case of \n",
        "#              many layers. Using backpropogation in sigmoid,\n",
        "#              we multiply a lot of numbers << 1 that leads to loss function \n",
        "#              gradient equals to 0 and there is no possibility to learn weights.\n",
        "#              Also sigmoid has a disadvantage for high or low values of input\n",
        "#              because of approximately zero gradient at this points that leads\n",
        "#              to inability to perfrom backpropogation.\n",
        "#              \n",
        "# *   Tanh: it may be a poor choice for high or low values of input because of \n",
        "#           approximately zero gradient at this points that leads\n",
        "#              to inability to perfrom backpropogation.\n",
        "\n",
        "#END SOLUTION (do not delete this comment!)"
      ],
      "execution_count": 2,
      "outputs": []
    },
    {
      "cell_type": "markdown",
      "metadata": {
        "id": "sW9OYyIw8wz4"
      },
      "source": [
        "### Task 6.2 MNIST classification. \n",
        "\n",
        "At one of the seminars we have discussed an MLP (Multilayer perceptron) with one hidden layer, logistic activation functions and softmax. In this task, you are to:\n",
        "\n",
        "1. Implement the MLP modules, including the Softmax cross entropy between `logits` and `labels` using numpy.\n",
        "\n",
        "2.  Train your numpy realization of MLP to classify the MNIST from `sklearn.datasets()`. The required accuracy on validation is `> 90%`.\n",
        "\n",
        "3.  Compare the acccuracy of classification to your scores from `Part 1` with and without dimensionality reduction. Is this comparison fair?:) Derive the confusion matrix for all digits classes. Which digits are predicted better or worse than others, why?"
      ]
    },
    {
      "cell_type": "code",
      "metadata": {
        "id": "RKxe88YT_p9P"
      },
      "source": [
        "import numpy as np\n",
        "import pandas as pd\n",
        "import matplotlib.pyplot as plt\n",
        "\n",
        "from sklearn.datasets import load_digits\n",
        "from sklearn.model_selection import train_test_split\n",
        "from sklearn.metrics import confusion_matrix, accuracy_score"
      ],
      "execution_count": 3,
      "outputs": []
    },
    {
      "cell_type": "code",
      "metadata": {
        "id": "E7_2lHue_r0x"
      },
      "source": [
        "# fetch the dataset.\n",
        "digits, targets = load_digits(return_X_y=True)\n",
        "digits = digits.astype(np.float32) / 255\n",
        "\n",
        "digits_train, digits_test, targets_train, targets_test = train_test_split(digits, targets, random_state=0)\n",
        "\n",
        "train_size = digits_train.shape[0]\n",
        "test_size = digits_test.shape[0]\n",
        "\n",
        "input_size = 8*8\n",
        "classes_n = 10"
      ],
      "execution_count": 4,
      "outputs": []
    },
    {
      "cell_type": "code",
      "metadata": {
        "colab": {
          "base_uri": "https://localhost:8080/",
          "height": 111
        },
        "id": "feWQtoKtn1vV",
        "outputId": "34f071ee-2c75-42da-d817-0631bb238530"
      },
      "source": [
        "N = 10\n",
        "\n",
        "sample_idx = np.random.choice(1797, N, replace=False)\n",
        "digits_sample = digits[sample_idx]\n",
        "targets_sample = targets[sample_idx]\n",
        "f, ax  = plt.subplots(1,10, figsize=(10, 5))\n",
        "\n",
        "for i in range(N):\n",
        "    ax[i].imshow(digits_sample[i].reshape(8,8))\n",
        "    ax[i].set_title('label: '+str(targets_sample[i]))\n"
      ],
      "execution_count": 5,
      "outputs": [
        {
          "output_type": "display_data",
          "data": {
            "image/png": "[encoded data removed]",
            "text/plain": [
              "<Figure size 720x360 with 10 Axes>"
            ]
          },
          "metadata": {
            "tags": [],
            "needs_background": "light"
          }
        }
      ]
    },
    {
      "cell_type": "markdown",
      "metadata": {
        "id": "Pj6EctS6yTJK"
      },
      "source": [
        "A short recap on what we are going to achieve here.\n",
        "<br>\n",
        "1. Forward pass:\n",
        "$$\n",
        "h_1 = X\\theta_1+\\beta_1\n",
        "$$\n",
        "\n",
        "$$\n",
        "O_1 = sig(h_1)\n",
        "$$\n",
        "\n",
        "$$\n",
        "h_2 = O_1\\theta_2+\\beta_2\n",
        "$$\n",
        "$$\n",
        "O_2 = softmax(h_2)\n",
        "$$\n",
        "$$\n",
        "Loss = CrossEntropy(O_2, true \\space labels)\n",
        "$$\n",
        "\n",
        "2. Compute gradients: \n",
        "\n",
        "To update weights first we need to compute loss gradients with respect to $\\theta_1$ and $\\theta_2$ and then update both $\\theta$ and $\\beta$.\n",
        "\n",
        "$$\n",
        "\\frac{ \\partial{loss} }{\\partial{\\theta_2}} = \\frac{ \\partial{loss} }{\\partial{O_2}}\\frac{ \\partial{O_2} }{\\partial{h_2}}\\frac{ \\partial{h_2} }{\\partial{\\theta_2}}\n",
        "$$\n",
        "Note, that $\\frac{ \\partial{h_2} }{\\partial{\\theta_2}}=O_1$, so we can cache this value during forward pass to speed up our computation.\n",
        "$$\n",
        "\\frac{ \\partial{loss} }{\\partial{\\theta_1}} = \\frac{ \\partial{loss} }{\\partial{O_2}}\\frac{ \\partial{O_2} }{\\partial{h_2}}\\frac{ \\partial{h_2} }{\\partial{O_1}}\\frac{ \\partial{O_1} }{\\partial{h_1}}\\frac{ \\partial{h_1} }{\\partial{\\theta_1}}\n",
        "$$\n",
        "Note, that $\\frac{ \\partial{h_1} }{\\partial{\\theta_1}}=X$.\n",
        "\n",
        "Since we are using sigmoid avtivation function here and\n",
        "$$\n",
        "\\frac{ \\partial{sig} }{\\partial{h}} = sig(h)(1 - sig(h))\n",
        "$$\n",
        "It also makes sense to cache sig(h) during forward pass.\n",
        "\n",
        "3. Update weights:\n",
        "\n",
        "$\\theta:= \\theta -  \\frac{ \\partial{loss} }{\\partial{\\theta}}\\alpha$, where $\\alpha$ is some learning rate.\n",
        "\n",
        "Note, it was not shown here how to update and compute $\\beta$ but you can do it!"
      ]
    },
    {
      "cell_type": "markdown",
      "metadata": {
        "id": "CaBenjDI_x6k"
      },
      "source": [
        "### Implement the MLP with backprop"
      ]
    },
    {
      "cell_type": "code",
      "metadata": {
        "id": "ffpXAKqQ_vfg"
      },
      "source": [
        "### YOUR TASK STARTS HERE ###\n",
        "\n",
        "#Here you should implement by yourself MLP class and its constituents including forward and backward propagation methods\n",
        "\n",
        "class Linear:\n",
        "    def __init__(self, input_size, output_size):\n",
        "        # Trainable parameters of the layer and their gradients\n",
        "        self.thetas = np.random.randn(input_size, output_size) # the weight matrix of the layer (W)\n",
        "        self.thetas_grads = np.empty_like(self.thetas) # gradient w.r.t. the weight matrix of the layer\n",
        "        self.bias = np.random.randn(output_size) # bias terms of the layer (b)\n",
        "        self.bias_grads = np.empty_like(self.bias) # gradient w.r.t. bias terms of the linear layer\n",
        "\n",
        "    def forward(self, x): \n",
        "        # keep x for backward computation\n",
        "        self.x = x\n",
        "        output = np.matmul(x, self.thetas) + self.bias\n",
        "        return output\n",
        "    \n",
        "    def backward(self, output_grad, learning_rate):\n",
        "        \"\"\"\n",
        "        Calculate and return gradient of the loss w.r.t. the input of linear layer given the input x and the gradient \n",
        "        w.r.t output of linear layer. You should also calculate and update gradients of layer parameters.\n",
        "        :param x: np.array, input tensor for linear layer;\n",
        "        :param output_grad: np.array, grad tensor w.r.t output of linear layer;\n",
        "        :return: np.array, grad w.r.t input of linear layer\n",
        "        \"\"\"\n",
        "        \n",
        "        # BEGIN SOLUTION (do not delete this comment!)\n",
        "        \n",
        "        # input gradient calculation\n",
        "        input_grad = output_grad @ self.thetas.T\n",
        "\n",
        "        # layer parameters gradient calculation\n",
        "        self.thetas_grads = self.x.T @ output_grad\n",
        "        self.bias_grads = output_grad.flatten()\n",
        "\n",
        "        # END Solution (do not delete this comment!)\n",
        "        \n",
        "        return input_grad\n",
        "\n",
        "    def step(self, learning_rate):\n",
        "        self.thetas -= self.thetas_grads * learning_rate\n",
        "        self.bias -= self.bias_grads * learning_rate\n",
        "\n",
        "class LogisticActivation:\n",
        "    def __init__(self):\n",
        "        # the layer has no parameters\n",
        "        pass \n",
        "        \n",
        "    def sig(self, x):\n",
        "        return 1/(1 + np.exp(-x))\n",
        "\n",
        "    def forward(self, x):\n",
        "        # keep o for backward computation\n",
        "        self.o = self.sig(x)\n",
        "        return self.o \n",
        "\n",
        "\n",
        "    def backward(self,  output_grad, learning_rate):\n",
        "        \"\"\"\n",
        "        Calculate and return the gradient of the loss w.r.t. the input\n",
        "        of logistic non-linearity (given input x and the gradient \n",
        "        w.r.t output of logistic non-linearity).\n",
        "        \n",
        "        :param x: np.array, input tensor for logistic non-linearity;\n",
        "        :param output_grad: np.array, grad tensor w.r.t output of logistic non-linearity;\n",
        "        :return: np.array, grad w.r.t input of logistic non-linearity\n",
        "        \n",
        "        \"\"\"\n",
        "        \n",
        "        # BEGIN SOLUTION (do not delete this comment!)\n",
        "\n",
        "        input_grad = output_grad * (self.o * (1 - self.o))\n",
        "\n",
        "        ### END Solution (do not delete this comment!)\n",
        "        \n",
        "        return input_grad\n",
        "\n",
        "\n",
        "class MLP:\n",
        "    def __init__(self, input_size, hidden_layer_size, output_size):\n",
        "        self.linear1 = Linear(input_size, hidden_layer_size)\n",
        "        self.activation1 = LogisticActivation()\n",
        "        self.linear2 = Linear(hidden_layer_size, output_size)\n",
        "        \n",
        "    def forward(self, x):\n",
        "        h1 = self.linear1.forward(x)\n",
        "        h1a = self.activation1.forward(h1)\n",
        "        out = self.linear2.forward(h1a)\n",
        "        return out\n",
        "\n",
        "    def backward(self, output_grad, learning_rate):\n",
        "        \"\"\"\n",
        "        Calculate and return the gradient of the loss w.r.t. the input of MLP given the input and the gradient \n",
        "        w.r.t output of MLP. You should also update gradients of paramerters of MLP layers.\n",
        "        Hint - you should chain backward operations of modules you have already implemented. You may also\n",
        "        need to calculate intermediate forward results.\n",
        "        \n",
        "        :param x: np.array, input tensor for MLP;\n",
        "        :param output_grad: np.array, grad tensor w.r.t output of MLP;\n",
        "        :return: np.array, grad w.r.t input of MLP\n",
        "        \"\"\"\n",
        " \n",
        "        # BEGIN SOLUTION (do not delete this comment!)\n",
        "\n",
        "        grad_linear2 = self.linear2.backward(output_grad, learning_rate)\n",
        "        grad_activation = self.activation1.backward(grad_linear2, learning_rate)\n",
        "        grad_linear1 = self.linear1.backward(grad_activation, learning_rate)\n",
        "\n",
        "        out = grad_linear1\n",
        "\n",
        "        # END Solution (do not delete this comment!)\n",
        "\n",
        "        return out"
      ],
      "execution_count": 6,
      "outputs": []
    },
    {
      "cell_type": "code",
      "metadata": {
        "id": "07DUqp86_0To"
      },
      "source": [
        "# BEGIN SOLUTION (do not delete this comment!)\n",
        "\n",
        "def softmax_crossentropy_with_logits(logits, reference_answers): \n",
        "    probs = np.exp(logits) / np.exp(logits).sum()\n",
        "    loss = -np.log(probs[target])\n",
        "    \n",
        "    ### END Solution\n",
        "    return loss[0]\n",
        "\n",
        "def grad_softmax_crossentropy_with_logits(logits, reference_answers):\n",
        "    grad = np.exp(logits) / np.exp(logits).sum()\n",
        "    grad[reference_answers] -= 1\n",
        "\n",
        "    return grad[:, None].T # >>> your solution here <<<\n",
        "\n",
        "# BEGIN Solution"
      ],
      "execution_count": 7,
      "outputs": []
    },
    {
      "cell_type": "code",
      "metadata": {
        "colab": {
          "base_uri": "https://localhost:8080/"
        },
        "id": "DWkD2V1y_4QU",
        "outputId": "3ea60e07-03a9-432b-a230-fd5d7394641b"
      },
      "source": [
        "np.random.seed(42)\n",
        "\n",
        "mlp = MLP(input_size=input_size, hidden_layer_size=100, output_size=classes_n)\n",
        "\n",
        "epochs_n = 100\n",
        "learning_curve = [0] * epochs_n\n",
        "test_curve = [0] * epochs_n\n",
        "\n",
        "x_train = digits_train\n",
        "x_test = digits_test\n",
        "y_train = targets_train\n",
        "y_test = targets_test\n",
        "\n",
        "learning_rate = 1e-2\n",
        "\n",
        "for epoch in range(epochs_n):\n",
        "    \n",
        "    y_pred = []\n",
        "\n",
        "    for sample_i in range(train_size):\n",
        "        x = x_train[sample_i].reshape((1, -1))\n",
        "        target = np.array([y_train[sample_i]])\n",
        "\n",
        "        ### BEGIN Solution\n",
        "        \n",
        "        # ... perform forward pass and compute the loss\n",
        "        logits = mlp.forward(x)\n",
        "        loss = softmax_crossentropy_with_logits(logits[0], target[0])\n",
        "\n",
        "        # ... compute the gradients w.r.t. the input of softmax layer\n",
        "        grad = grad_softmax_crossentropy_with_logits(logits[0], target[0])\n",
        "\n",
        "        # ... perform backward pass\n",
        "        mlp.backward(grad, learning_rate)\n",
        "\n",
        "        # ... and update the weights with weight -= grad * learning_rate\n",
        "        mlp.linear1.step(learning_rate)\n",
        "        mlp.linear2.step(learning_rate)\n",
        "\n",
        "        ### END Solution\n",
        "\n",
        "        y_pred.extend(logits.argmax(1))\n",
        "\n",
        "    if epoch % 10 == 0:\n",
        "        \n",
        "        y_pred_test = []\n",
        "\n",
        "        for sample_i in range(test_size):\n",
        "            x = x_test[sample_i].reshape((1, -1))\n",
        "            target = np.array([y_test[sample_i]])\n",
        "            \n",
        "            logits = mlp.forward(x)\n",
        "            y_pred_test.extend(logits.argmax(1))\n",
        "\n",
        "        print('Starting epoch {}'.format(epoch), \\\n",
        "              ', Loss : {:.3}'.format(loss), \\\n",
        "              ', Accuracy on train: {:.3}'.format(accuracy_score(y_train, y_pred)), \\\n",
        "              ', Accuracy on test: {:.3}'.format(accuracy_score(y_test, y_pred_test)) )\n",
        "        \n"
      ],
      "execution_count": 8,
      "outputs": [
        {
          "output_type": "stream",
          "text": [
            "Starting epoch 0 , Loss : 2.71 , Accuracy on train: 0.103 , Accuracy on test: 0.0667\n",
            "Starting epoch 10 , Loss : 2.15 , Accuracy on train: 0.625 , Accuracy on test: 0.649\n",
            "Starting epoch 20 , Loss : 1.55 , Accuracy on train: 0.821 , Accuracy on test: 0.807\n",
            "Starting epoch 30 , Loss : 1.07 , Accuracy on train: 0.875 , Accuracy on test: 0.871\n",
            "Starting epoch 40 , Loss : 0.742 , Accuracy on train: 0.9 , Accuracy on test: 0.889\n",
            "Starting epoch 50 , Loss : 0.534 , Accuracy on train: 0.911 , Accuracy on test: 0.904\n",
            "Starting epoch 60 , Loss : 0.399 , Accuracy on train: 0.92 , Accuracy on test: 0.924\n",
            "Starting epoch 70 , Loss : 0.308 , Accuracy on train: 0.927 , Accuracy on test: 0.931\n",
            "Starting epoch 80 , Loss : 0.245 , Accuracy on train: 0.929 , Accuracy on test: 0.931\n",
            "Starting epoch 90 , Loss : 0.198 , Accuracy on train: 0.936 , Accuracy on test: 0.933\n"
          ],
          "name": "stdout"
        }
      ]
    },
    {
      "cell_type": "code",
      "metadata": {
        "id": "0DNQhxXaARCy",
        "colab": {
          "base_uri": "https://localhost:8080/"
        },
        "outputId": "e232c27b-c590-4831-c769-48328e30e0e4"
      },
      "source": [
        "# BEGIN SOLUTION (do not delete this comment!)\n",
        "     \n",
        "# confusion matrix\n",
        "confusion_matrix(y_test, y_pred_test)\n",
        "\n",
        "# END Solution (do not delete this comment!)"
      ],
      "execution_count": 9,
      "outputs": [
        {
          "output_type": "execute_result",
          "data": {
            "text/plain": [
              "array([[37,  0,  0,  0,  0,  0,  0,  0,  0,  0],\n",
              "       [ 0, 39,  0,  0,  0,  0,  2,  0,  0,  2],\n",
              "       [ 0,  2, 40,  1,  0,  0,  0,  1,  0,  0],\n",
              "       [ 0,  0,  0, 42,  0,  0,  0,  1,  1,  1],\n",
              "       [ 0,  0,  0,  0, 37,  0,  0,  1,  0,  0],\n",
              "       [ 0,  0,  0,  0,  0, 46,  0,  0,  0,  2],\n",
              "       [ 0,  1,  0,  0,  0,  0, 51,  0,  0,  0],\n",
              "       [ 0,  0,  0,  0,  0,  0,  0, 48,  0,  0],\n",
              "       [ 0,  4,  1,  0,  0,  1,  0,  1, 41,  0],\n",
              "       [ 0,  0,  0,  4,  0,  2,  0,  1,  1, 39]])"
            ]
          },
          "metadata": {
            "tags": []
          },
          "execution_count": 9
        }
      ]
    },
    {
      "cell_type": "markdown",
      "metadata": {
        "id": "MkSdyrpn8xdE"
      },
      "source": [
        "## Task 7. Autoencoders on tabular data (2 points)\n",
        "**From now on we will be using pytorch for all the tasks.**\n",
        "\n",
        "We will build a latent representation for tabular data with simple Autoencoder (AE). We are going to work with the cancer dataset from scikit-learn package. You are to follow the instructions.  \n",
        "\n",
        "1. **(1 pt.)**  Implement AE modules for tabular data. Train AE to get latent representation of the cancer dataset from `sklearn.datasets()`. Use `MSE` loss and get < $0.3$ on validation, with AE \"bottleneck\" = $2$;   **(sub tasks 7.1 - 7.5)**\n",
        "\n",
        "2. **(1 pt.)** Plot the latent representation of whole dataset in 2D, use colors to show object of different classes. **(sub tasks: 7.6)**\n"
      ]
    },
    {
      "cell_type": "code",
      "metadata": {
        "id": "Sg5fX833AX9q"
      },
      "source": [
        "# imports\n",
        "\n",
        "import torch\n",
        "import torch.nn as nn\n",
        "import torch.utils.data as torch_data\n",
        "\n",
        "import sklearn.datasets as sk_data\n",
        "from sklearn.model_selection import train_test_split\n",
        "from sklearn.linear_model import LogisticRegression\n",
        "from sklearn.preprocessing import StandardScaler\n"
      ],
      "execution_count": 10,
      "outputs": []
    },
    {
      "cell_type": "markdown",
      "metadata": {
        "id": "AYtA62xA8xgB"
      },
      "source": [
        "#### 7.1 Fetch the data. Scale it and split on train and test."
      ]
    },
    {
      "cell_type": "code",
      "metadata": {
        "colab": {
          "base_uri": "https://localhost:8080/"
        },
        "id": "BinFOZc7Abpx",
        "outputId": "35518a4e-7769-454e-829f-b26e646974f1"
      },
      "source": [
        "cancer_dset = sk_data.load_breast_cancer()\n",
        "\n",
        "X_train, X_val, y_train, y_val = train_test_split(cancer_dset['data'], cancer_dset['target'], test_size=0.2, random_state=42)\n",
        "print('\\nTrain size: ', len(X_train))\n",
        "print('Validation size: ', len(X_val))\n",
        "\n",
        "scaler = StandardScaler() \n",
        "scaler.fit(X_train)\n",
        "\n",
        "X_train = scaler.transform(X_train)\n",
        "X_val = scaler.transform(X_val)\n",
        "\n",
        "print('Features: ', list(cancer_dset['feature_names']))\n",
        "print('\\nShape:', X_train.shape)\n",
        "\n"
      ],
      "execution_count": 11,
      "outputs": [
        {
          "output_type": "stream",
          "text": [
            "\n",
            "Train size:  455\n",
            "Validation size:  114\n",
            "Features:  ['mean radius', 'mean texture', 'mean perimeter', 'mean area', 'mean smoothness', 'mean compactness', 'mean concavity', 'mean concave points', 'mean symmetry', 'mean fractal dimension', 'radius error', 'texture error', 'perimeter error', 'area error', 'smoothness error', 'compactness error', 'concavity error', 'concave points error', 'symmetry error', 'fractal dimension error', 'worst radius', 'worst texture', 'worst perimeter', 'worst area', 'worst smoothness', 'worst compactness', 'worst concavity', 'worst concave points', 'worst symmetry', 'worst fractal dimension']\n",
            "\n",
            "Shape: (455, 30)\n"
          ],
          "name": "stdout"
        }
      ]
    },
    {
      "cell_type": "markdown",
      "metadata": {
        "id": "x7Dzo8VIAaaf"
      },
      "source": [
        "#### 7.2 Let us firstly create the dataset, which we'll be able to use with pytorch dataloader. \n",
        "Implement `__len__` and `__getitem__` methods."
      ]
    },
    {
      "cell_type": "code",
      "metadata": {
        "id": "Vi4Cq7DtAl8u"
      },
      "source": [
        "### BEGIN Solution\n",
        "\n",
        "class CancerData(torch_data.Dataset):\n",
        "    def __init__(self, X, y):\n",
        "        super(CancerData, self).__init__()\n",
        "        self.X = torch.tensor(X, dtype=torch.float32)\n",
        "        self.y = torch.tensor(y, dtype=torch.float32)\n",
        "    \n",
        "    def __len__(self):\n",
        "\n",
        "        return self.X.shape[0] # >>> your solution here <<<\n",
        "    \n",
        "    def __getitem__(self, idx):\n",
        "        \n",
        "        \n",
        "        return self.X[idx], self.y[idx] # >>> your solution here <<<\n",
        "\n",
        "\n",
        "### END Solution"
      ],
      "execution_count": 12,
      "outputs": []
    },
    {
      "cell_type": "code",
      "metadata": {
        "colab": {
          "base_uri": "https://localhost:8080/"
        },
        "id": "f4emJDB1ApHh",
        "outputId": "2f0a2ccb-b5e2-4cae-a069-6060b04b233e"
      },
      "source": [
        "train_dset = CancerData(X_train, y_train) \n",
        "val_dset = CancerData(X_val, y_val) \n",
        "\n",
        "print(train_dset[5])"
      ],
      "execution_count": 13,
      "outputs": [
        {
          "output_type": "stream",
          "text": [
            "(tensor([ 0.1196,  1.9607,  0.1995,  0.0125,  1.3055,  1.0662,  0.9448,  0.6670,\n",
            "         1.7919,  1.1127, -0.1132, -0.3136,  0.0100, -0.1594, -0.4526,  0.9020,\n",
            "         0.4543, -0.1581, -0.2454,  0.5911,  0.2549,  1.9137,  0.5098,  0.1168,\n",
            "         1.5730,  2.6153,  2.0462,  0.8738,  2.0814,  2.8176]), tensor(0.))\n"
          ],
          "name": "stdout"
        }
      ]
    },
    {
      "cell_type": "markdown",
      "metadata": {
        "id": "ksiBurhhAapc"
      },
      "source": [
        "#### 7.3 Now, we'll make a base class for our autoencoder. \n",
        "AE takes as input encoder and decoder (it will be two neural networks). Your task is to implement the forward pass."
      ]
    },
    {
      "cell_type": "code",
      "metadata": {
        "id": "wVlgW3_rAqgu"
      },
      "source": [
        "class MyFirstAE(nn.Module):\n",
        "    def __init__(self, encoder, decoder):\n",
        "        super(MyFirstAE, self).__init__()\n",
        "        self.encoder = encoder\n",
        "        self.decoder = decoder\n",
        "    \n",
        "    def forward(self, x):\n",
        "        \"\"\"\n",
        "        Take a mini-batch as an input, encode it to the latent space and decode back to the original space\n",
        "        x_out = decoder(encoder(x))\n",
        "        :param x: torch.tensor, (MB, x_dim)\n",
        "        :return: torch.tensor, (MB, x_dim)\n",
        "        \"\"\"\n",
        "        # BEGIN SOLUTION (do not delete this comment!)\n",
        "\n",
        "        # >>> your solution here <<<\n",
        "        x = self.decoder(self.encoder(x))\n",
        "\n",
        "        # END Solution (do not delete this comment!)\n",
        "        \n",
        "        return x"
      ],
      "execution_count": 14,
      "outputs": []
    },
    {
      "cell_type": "markdown",
      "metadata": {
        "id": "rp39DZHDAzfQ"
      },
      "source": [
        "#### It is high time to create encoder and decoder neural networks!\n",
        "Make hidden size of the network to be equal to `2`.\n",
        "\n",
        "**Hint.** You can use `nn.Sequential` to create your own archtectures."
      ]
    },
    {
      "cell_type": "code",
      "metadata": {
        "id": "gQ5Zuro3Aqmu"
      },
      "source": [
        "encoder = lambda hidden_size: nn.Sequential(\n",
        "                        # >>> your solution here <<<\n",
        "                        nn.Linear(30, 20),\n",
        "                        nn.BatchNorm1d(20),\n",
        "                        nn.ReLU(),\n",
        "                        nn.Linear(20, hidden_size)\n",
        "                        )\n",
        "\n",
        "decoder = lambda hidden_size: nn.Sequential(\n",
        "                        # >>> your solution here <<<\n",
        "                        nn.Linear(hidden_size, 20),\n",
        "                        nn.BatchNorm1d(20),\n",
        "                        nn.ReLU(),\n",
        "                        nn.Linear(20, 30)\n",
        "                        )"
      ],
      "execution_count": 15,
      "outputs": []
    },
    {
      "cell_type": "code",
      "metadata": {
        "id": "NOiJCm00A2t5"
      },
      "source": [
        "device = torch.device('cuda' if torch.cuda.is_available() else 'cpu') # >>> your solution here <<<\n",
        "\n",
        "net = MyFirstAE(encoder(2), decoder(2))  \n",
        "criterion = nn.MSELoss()\n",
        "optimizer = torch.optim.Adam(net.parameters(), lr=1e-2)# >>> your solution here <<<\n",
        "scheduler = torch.optim.lr_scheduler.StepLR(optimizer, step_size=5, gamma=.5) # >>> your solution here <<<\n",
        "\n",
        "\n",
        "train_loader = torch_data.DataLoader(train_dset, batch_size=15, shuffle=True) \n",
        "val_loader = torch_data.DataLoader(val_dset, batch_size=100, shuffle=False) "
      ],
      "execution_count": 16,
      "outputs": []
    },
    {
      "cell_type": "markdown",
      "metadata": {
        "id": "hgOC1-iZA6ev"
      },
      "source": [
        "#### 7.4 Implement the missing parts of the `train` function"
      ]
    },
    {
      "cell_type": "code",
      "metadata": {
        "id": "3SvYM1dxA5kI"
      },
      "source": [
        "def train(epochs, net, criterion, optimizer, train_loader, val_loader, scheduler=None, verbose=True, save_dir=None):\n",
        "    SEED = 1234\n",
        "    torch.manual_seed(SEED)\n",
        "    torch.backends.cudnn.deterministic = True\n",
        "\n",
        "    freq = max(epochs//20,1)\n",
        "    net.to(device)\n",
        "    \n",
        "    for epoch in range(1, epochs+1):\n",
        "        net.train()\n",
        "\n",
        "        losses_train = []\n",
        "        for X, _ in train_loader:\n",
        "            \n",
        "            ### BEGIN Solution\n",
        "\n",
        "            # Perform one step of minibatch stochastic gradient descent\n",
        "    \n",
        "            # >>> your solution here <<<\n",
        "            optimizer.zero_grad()\n",
        "\n",
        "            X = X.to(device)\n",
        "            X_out = net(X)\n",
        "\n",
        "            loss = criterion(X_out, X)\n",
        "            losses_train.append(loss.item())\n",
        "            loss.backward()\n",
        "\n",
        "            optimizer.step()\n",
        "\n",
        "\n",
        "        # define NN evaluation, i.e. turn off dropouts, batchnorms, etc.\n",
        "        \n",
        "        net.eval()\n",
        "        for X, _ in val_loader:\n",
        "            losses_val = []\n",
        "            \n",
        "            # Compute the validation loss\n",
        "\n",
        "            # >>> your solution here <<<\n",
        "            X = X.to(device)\n",
        "            X_out = net(X)\n",
        "            loss = criterion(X_out, X)\n",
        "            losses_val.append(loss.item())\n",
        "            \n",
        "            ### END Solution\n",
        "\n",
        "        if scheduler is not None:\n",
        "            scheduler.step()\n",
        "        \n",
        "        if verbose and epoch%freq==0:\n",
        "            mean_val = sum(losses_val)/len(losses_val)\n",
        "            mean_train = sum(losses_train)/len(losses_train)\n",
        "\n",
        "            print('Epoch {}/{} || Loss:  Train {:.4f} | Validation {:.4f}'\\\n",
        "                  .format(epoch, epochs, mean_train, mean_val))"
      ],
      "execution_count": 17,
      "outputs": []
    },
    {
      "cell_type": "code",
      "metadata": {
        "colab": {
          "base_uri": "https://localhost:8080/"
        },
        "id": "Gj9Bk-RQBHcD",
        "outputId": "6a17e800-f8b4-42f7-acdf-f56ba84e05d3"
      },
      "source": [
        "# for `MSE` loss get < 0.3 on validation, with AE \"bottleneck\" = 2\n",
        "train(100, net, criterion, optimizer, train_loader, val_loader, scheduler) "
      ],
      "execution_count": 18,
      "outputs": [
        {
          "output_type": "stream",
          "text": [
            "Epoch 5/100 || Loss:  Train 0.5024 | Validation 0.3778\n",
            "Epoch 10/100 || Loss:  Train 0.4987 | Validation 0.3686\n",
            "Epoch 15/100 || Loss:  Train 0.4494 | Validation 0.3533\n",
            "Epoch 20/100 || Loss:  Train 0.4465 | Validation 0.3415\n",
            "Epoch 25/100 || Loss:  Train 0.4483 | Validation 0.3423\n",
            "Epoch 30/100 || Loss:  Train 0.4193 | Validation 0.3540\n",
            "Epoch 35/100 || Loss:  Train 0.4555 | Validation 0.3389\n",
            "Epoch 40/100 || Loss:  Train 0.4170 | Validation 0.3407\n",
            "Epoch 45/100 || Loss:  Train 0.4336 | Validation 0.3459\n",
            "Epoch 50/100 || Loss:  Train 0.4471 | Validation 0.3449\n",
            "Epoch 55/100 || Loss:  Train 0.4539 | Validation 0.3415\n",
            "Epoch 60/100 || Loss:  Train 0.4512 | Validation 0.3406\n",
            "Epoch 65/100 || Loss:  Train 0.4292 | Validation 0.3413\n",
            "Epoch 70/100 || Loss:  Train 0.4340 | Validation 0.3398\n",
            "Epoch 75/100 || Loss:  Train 0.4325 | Validation 0.3443\n",
            "Epoch 80/100 || Loss:  Train 0.4411 | Validation 0.3456\n",
            "Epoch 85/100 || Loss:  Train 0.4321 | Validation 0.3589\n",
            "Epoch 90/100 || Loss:  Train 0.4431 | Validation 0.3439\n",
            "Epoch 95/100 || Loss:  Train 0.4320 | Validation 0.3430\n",
            "Epoch 100/100 || Loss:  Train 0.4429 | Validation 0.3363\n"
          ],
          "name": "stdout"
        }
      ]
    },
    {
      "cell_type": "markdown",
      "metadata": {
        "id": "IsrutdnJAasT"
      },
      "source": [
        "#### 7.5 Train your AE on breast cancer dataset. \n",
        "Your goal is to get validation error <0.3.\n",
        "\n",
        "Some features that may help you to improve the performance:\n",
        "* `Dropout`\n",
        "* `Batchnorm`\n",
        "* lr scheduler\n",
        "* Batch size increase/decrease"
      ]
    },
    {
      "cell_type": "markdown",
      "metadata": {
        "id": "9Tq4AMlDBCjW"
      },
      "source": [
        "#### 7.5 Let us take a look at the latent space. \n",
        "Encode the whole dataset, using your AE, plot it in 2D and use colors to indicate objects of differrent classes"
      ]
    },
    {
      "cell_type": "code",
      "metadata": {
        "colab": {
          "base_uri": "https://localhost:8080/",
          "height": 336
        },
        "id": "_DD8qANbBN1s",
        "outputId": "00c37a5a-74a3-4164-9e2b-5c19821a3a0c"
      },
      "source": [
        " ### BEGIN Solution\n",
        "plt.figure(figsize=(14, 5))\n",
        "net.eval()\n",
        "\n",
        "X = cancer_dset['data']\n",
        "scaler = StandardScaler() \n",
        "X_scaled = scaler.fit_transform(X)\n",
        "X_scaled = torch.tensor(X_scaled, dtype=torch.float32)\n",
        "X_scaled = X_scaled.to(device)\n",
        "\n",
        "enc = net.encoder(X_scaled).detach().cpu().numpy() # >>> your solution here <<<\n",
        "plt.scatter(enc[:,0], enc[:,1], c=cancer_dset['target'], alpha=0.7);\n",
        "plt.title('Latent space from the Autoencoder bottle neck, purple dots go for malignant samples. ');\n",
        " ### END Solution"
      ],
      "execution_count": 19,
      "outputs": [
        {
          "output_type": "display_data",
          "data": {
            "image/png": "[encoded data removed]",
            "text/plain": [
              "<Figure size 1008x360 with 1 Axes>"
            ]
          },
          "metadata": {
            "tags": [],
            "needs_background": "light"
          }
        }
      ]
    },
    {
      "cell_type": "markdown",
      "metadata": {
        "id": "ufty_3qKBCwD"
      },
      "source": [
        "### Task 8.  Autoencoder on kMNIST. (2 points)\n",
        "\n",
        "\n",
        "We will build a latent representation for `kMNIST` dataset by using our AE.\n",
        "\n",
        "1. **(1 pt.)**  Train AE to get latent representation of the `kMNIST` dataset from `sklearn.datasets()`. Follow the instructions. Use `MSE` loss and obtain < $0.035$ on validation, with AE \"bottleneck\"  $\\leq 40$; **(sub tasks 8.1 - 8.2)**\n",
        "2.  **(1 pt.)** Plot 10 images and their reconstructions 2d. **(sub tasks 8.3)**"
      ]
    },
    {
      "cell_type": "code",
      "metadata": {
        "id": "mldP_RZZN7bm",
        "colab": {
          "base_uri": "https://localhost:8080/",
          "height": 437,
          "referenced_widgets": [
            "aba917eada944f9b935bafcf1b87f2e9",
            "86cc4d7aa5e942b5b0e69f3ad2f4c2db",
            "638809490f8d41a0a10e0b74726a693b",
            "c27d6125d56e4b98a9126ac4bf4aa4d1",
            "35c4675a4e43460db9e941e2f8c53ac2",
            "bbdc4bee8921498bad8469033f5554d1",
            "919f15e14afc4428bba3494fbf024078",
            "fa91724110ec477f8123d12742d6d973",
            "d4c90ce175ba4c3184e8ee01a540cddb",
            "654792748fd247d096522f934d7b2800",
            "377dc4468bbb4cd4802802c3c5025067",
            "1221f1c4e78045e98ace00158b3a0c36",
            "106253d148e34147b702cd5b1d3e4d71",
            "11f69cc34f2141919106af76845a2dc1",
            "1cda5f4a31ba42489ffa7eff7e640f51",
            "f69cfa7ad40747989e4eae506c7a0548",
            "eb9fcbf66e9542bb97bfa0fd0cc6fe68",
            "855bb587a8344994aef35fb250cc5c00",
            "08c5287c8449460d8657b4a94afb6fb6",
            "5678643ffb674c768b0c33126f71b5c5",
            "dafa9e72e3e147ee84b682b09a16cbd1",
            "1f8434e0e37145baaf1534073ff2ebe2",
            "096b3439f71342e99e4190fb8d75968c",
            "071fa25e6b8246918309cfb550f023b0",
            "618fb59893b044f68955a06f989240f7",
            "7b954709cb27426f9b9b22bd9006b698",
            "76c3940a60c8422695307a787de0452c",
            "90a410bd894d4575abad991e0af1c2e4",
            "57e338e2527745c6863f4a3dda30b883",
            "85d7a3f3584243a6a10e8e132fbbd9b2",
            "fbc10148fe7e458cadf734f5e3d5008e",
            "41e71b880786469ba3ff0c85478ffe56"
          ]
        },
        "outputId": "8babe53d-341a-4d78-acaf-a65b5e19ce96"
      },
      "source": [
        "from torchvision.datasets import KMNIST\n",
        "\n",
        "data_train = KMNIST(train=True, root='./kmnist', download=True)\n",
        "data_test = KMNIST(train=False, root='./kmnist', download=True)"
      ],
      "execution_count": 20,
      "outputs": [
        {
          "output_type": "stream",
          "text": [
            "Downloading http://codh.rois.ac.jp/kmnist/dataset/kmnist/train-images-idx3-ubyte.gz to ./kmnist/KMNIST/raw/train-images-idx3-ubyte.gz\n"
          ],
          "name": "stdout"
        },
        {
          "output_type": "display_data",
          "data": {
            "application/vnd.jupyter.widget-view+json": {
              "model_id": "aba917eada944f9b935bafcf1b87f2e9",
              "version_minor": 0,
              "version_major": 2
            },
            "text/plain": [
              "HBox(children=(FloatProgress(value=0.0, max=18165135.0), HTML(value='')))"
            ]
          },
          "metadata": {
            "tags": []
          }
        },
        {
          "output_type": "stream",
          "text": [
            "\n",
            "Extracting ./kmnist/KMNIST/raw/train-images-idx3-ubyte.gz to ./kmnist/KMNIST/raw\n",
            "Downloading http://codh.rois.ac.jp/kmnist/dataset/kmnist/train-labels-idx1-ubyte.gz to ./kmnist/KMNIST/raw/train-labels-idx1-ubyte.gz\n"
          ],
          "name": "stdout"
        },
        {
          "output_type": "display_data",
          "data": {
            "application/vnd.jupyter.widget-view+json": {
              "model_id": "d4c90ce175ba4c3184e8ee01a540cddb",
              "version_minor": 0,
              "version_major": 2
            },
            "text/plain": [
              "HBox(children=(FloatProgress(value=0.0, max=29497.0), HTML(value='')))"
            ]
          },
          "metadata": {
            "tags": []
          }
        },
        {
          "output_type": "stream",
          "text": [
            "\n",
            "Extracting ./kmnist/KMNIST/raw/train-labels-idx1-ubyte.gz to ./kmnist/KMNIST/raw\n",
            "Downloading http://codh.rois.ac.jp/kmnist/dataset/kmnist/t10k-images-idx3-ubyte.gz to ./kmnist/KMNIST/raw/t10k-images-idx3-ubyte.gz\n"
          ],
          "name": "stdout"
        },
        {
          "output_type": "display_data",
          "data": {
            "application/vnd.jupyter.widget-view+json": {
              "model_id": "eb9fcbf66e9542bb97bfa0fd0cc6fe68",
              "version_minor": 0,
              "version_major": 2
            },
            "text/plain": [
              "HBox(children=(FloatProgress(value=0.0, max=3041136.0), HTML(value='')))"
            ]
          },
          "metadata": {
            "tags": []
          }
        },
        {
          "output_type": "stream",
          "text": [
            "\n",
            "Extracting ./kmnist/KMNIST/raw/t10k-images-idx3-ubyte.gz to ./kmnist/KMNIST/raw\n",
            "Downloading http://codh.rois.ac.jp/kmnist/dataset/kmnist/t10k-labels-idx1-ubyte.gz to ./kmnist/KMNIST/raw/t10k-labels-idx1-ubyte.gz\n"
          ],
          "name": "stdout"
        },
        {
          "output_type": "display_data",
          "data": {
            "application/vnd.jupyter.widget-view+json": {
              "model_id": "618fb59893b044f68955a06f989240f7",
              "version_minor": 0,
              "version_major": 2
            },
            "text/plain": [
              "HBox(children=(FloatProgress(value=0.0, max=5120.0), HTML(value='')))"
            ]
          },
          "metadata": {
            "tags": []
          }
        },
        {
          "output_type": "stream",
          "text": [
            "\n",
            "Extracting ./kmnist/KMNIST/raw/t10k-labels-idx1-ubyte.gz to ./kmnist/KMNIST/raw\n",
            "Processing...\n",
            "Done!\n"
          ],
          "name": "stdout"
        },
        {
          "output_type": "stream",
          "text": [
            "/usr/local/lib/python3.7/dist-packages/torchvision/datasets/mnist.py:479: UserWarning: The given NumPy array is not writeable, and PyTorch does not support non-writeable tensors. This means you can write to the underlying (supposedly non-writeable) NumPy array using the tensor. You may want to copy the array to protect its data or make it writeable before converting it to a tensor. This type of warning will be suppressed for the rest of this program. (Triggered internally at  /pytorch/torch/csrc/utils/tensor_numpy.cpp:143.)\n",
            "  return torch.from_numpy(parsed.astype(m[2], copy=False)).view(*s)\n"
          ],
          "name": "stderr"
        }
      ]
    },
    {
      "cell_type": "markdown",
      "metadata": {
        "id": "KZsmSJ3vuQrd"
      },
      "source": [
        "#### 8.1 Prepare the data and necessary functions."
      ]
    },
    {
      "cell_type": "code",
      "metadata": {
        "id": "KoRlKg3vOZCW"
      },
      "source": [
        "x_train = np.array(data_train.data)\n",
        "y_train = np.array(data_train.targets)\n",
        "\n",
        "x_test = np.array(data_test.data)\n",
        "y_test = np.array(data_test.targets)\n"
      ],
      "execution_count": 21,
      "outputs": []
    },
    {
      "cell_type": "code",
      "metadata": {
        "id": "fM3bsc0wBWTH"
      },
      "source": [
        "# Reshape the data and scale\n",
        "x_train = x_train.reshape((60000, 28 ** 2)) / 255 # >>> your solution here <<<\n",
        "x_test = x_test.reshape((10000, 28 ** 2)) / 255  # >>> your solution here <<<"
      ],
      "execution_count": 22,
      "outputs": []
    },
    {
      "cell_type": "code",
      "metadata": {
        "colab": {
          "base_uri": "https://localhost:8080/",
          "height": 125
        },
        "id": "Tz2892txBYJk",
        "outputId": "48844d56-5373-43b3-9dd7-dbbb72a70bab"
      },
      "source": [
        "fig, ax = plt.subplots(ncols=10, figsize=(20, 5))\n",
        "for i in range(10):\n",
        "    ax[i].imshow(x_train[i].reshape(28,28));\n",
        "    ax[i].axis('off')"
      ],
      "execution_count": 23,
      "outputs": [
        {
          "output_type": "display_data",
          "data": {
            "image/png": "[encoded data removed]",
            "text/plain": [
              "<Figure size 1440x360 with 10 Axes>"
            ]
          },
          "metadata": {
            "tags": [],
            "needs_background": "light"
          }
        }
      ]
    },
    {
      "cell_type": "code",
      "metadata": {
        "id": "b5sHmYVxBeCV"
      },
      "source": [
        "# BEGIN SOLUTION (do not delete this comment!)\n",
        "class kMNISTData(torch_data.Dataset):\n",
        "    def __init__(self, X, y):\n",
        "        super(kMNISTData, self).__init__()\n",
        "        # >>> your solution here <<<                                                        \n",
        "        # >>> your solution here <<<\n",
        "        self.X = torch.tensor(X, dtype=torch.float32)\n",
        "        self.y = torch.tensor(y, dtype=torch.int32)\n",
        "    \n",
        "    def __len__(self):\n",
        "        return self.X.shape[0] # >>> your solution here <<<\n",
        "    \n",
        "    def __getitem__(self, idx):\n",
        "        return self.X[idx], self.y[idx] # >>> your solution here <<<\n",
        "    \n",
        "# END Solution (do not delete this comment!)"
      ],
      "execution_count": 24,
      "outputs": []
    },
    {
      "cell_type": "code",
      "metadata": {
        "id": "lfla6EKiBgNy"
      },
      "source": [
        "train_kmnist = kMNISTData(x_train, y_train) \n",
        "test_kmnist = kMNISTData(x_test, y_test) "
      ],
      "execution_count": 25,
      "outputs": []
    },
    {
      "cell_type": "markdown",
      "metadata": {
        "id": "J1jIdmh9uI-r"
      },
      "source": [
        "#### 8.2 Create encoder and decoder network for kMNIST. \n",
        "You can either use convolutions or flatten the images and use linear layers. You can choose hidden size (not larger than 40) and any architecture you like. "
      ]
    },
    {
      "cell_type": "code",
      "metadata": {
        "id": "uvECUsVcBkmB"
      },
      "source": [
        "# BEGIN SOLUTION (do not delete this comment!)\n",
        "\n",
        "encoder = lambda hidden_size: nn.Sequential(nn.Linear(28 ** 2, 28 ** 2),\n",
        "                                            nn.BatchNorm1d(28 ** 2),\n",
        "                                            nn.ReLU(),\n",
        "                                            nn.Linear(28 ** 2, 28 ** 2 // 2),\n",
        "                                            nn.ReLU(),\n",
        "                                            nn.Linear(28 ** 2 // 2, hidden_size))\n",
        "\n",
        "decoder =  lambda hidden_size: nn.Sequential(nn.Linear(hidden_size, 28 ** 2 // 2),\n",
        "                                             nn.BatchNorm1d(28 ** 2 // 2),\n",
        "                                             nn.ReLU(),\n",
        "                                             nn.Linear(28 ** 2 // 2, 28 ** 2),\n",
        "                                             nn.ReLU(),\n",
        "                                             nn.Linear(28 ** 2, 28 ** 2),\n",
        "                                             nn.Sigmoid()) \n",
        "\n",
        "### END Solution (do not delete this comment!)"
      ],
      "execution_count": 26,
      "outputs": []
    },
    {
      "cell_type": "code",
      "metadata": {
        "id": "Id-iNSswBpe9"
      },
      "source": [
        "# BEGIN SOLUTION (do not delete this comment!)\n",
        "\n",
        "device = torch.device('cuda' if torch.cuda.is_available() else 'cpu') # >>> your solution here <<<\n",
        "\n",
        "net = MyFirstAE(encoder(40), decoder(40)) \n",
        "criterion = nn.MSELoss()\n",
        "optimizer = torch.optim.Adam(net.parameters(), lr=1e-2) # >>> your solution here <<<\n",
        "scheduler = None # >>> your solution here <<<\n",
        "\n",
        "train_loader = torch_data.DataLoader(train_kmnist, batch_size=500, shuffle=True) \n",
        "val_loader = torch_data.DataLoader(test_kmnist, batch_size=500, shuffle=False) \n",
        "\n",
        "# END Solution (do not delete this comment!)"
      ],
      "execution_count": 27,
      "outputs": []
    },
    {
      "cell_type": "code",
      "metadata": {
        "colab": {
          "base_uri": "https://localhost:8080/"
        },
        "id": "ytDZI0spBsFl",
        "outputId": "9322dc03-6a2a-4217-91b7-b36f57af1603"
      },
      "source": [
        "train(25, net, criterion, optimizer, train_loader, val_loader, scheduler)"
      ],
      "execution_count": 28,
      "outputs": [
        {
          "output_type": "stream",
          "text": [
            "Epoch 1/25 || Loss:  Train 0.0828 | Validation 0.0704\n",
            "Epoch 2/25 || Loss:  Train 0.0588 | Validation 0.0586\n",
            "Epoch 3/25 || Loss:  Train 0.0486 | Validation 0.0518\n",
            "Epoch 4/25 || Loss:  Train 0.0423 | Validation 0.0447\n",
            "Epoch 5/25 || Loss:  Train 0.0372 | Validation 0.0408\n",
            "Epoch 6/25 || Loss:  Train 0.0338 | Validation 0.0389\n",
            "Epoch 7/25 || Loss:  Train 0.0313 | Validation 0.0362\n",
            "Epoch 8/25 || Loss:  Train 0.0294 | Validation 0.0338\n",
            "Epoch 9/25 || Loss:  Train 0.0278 | Validation 0.0326\n",
            "Epoch 10/25 || Loss:  Train 0.0265 | Validation 0.0312\n",
            "Epoch 11/25 || Loss:  Train 0.0255 | Validation 0.0306\n",
            "Epoch 12/25 || Loss:  Train 0.0245 | Validation 0.0294\n",
            "Epoch 13/25 || Loss:  Train 0.0238 | Validation 0.0293\n",
            "Epoch 14/25 || Loss:  Train 0.0231 | Validation 0.0280\n",
            "Epoch 15/25 || Loss:  Train 0.0223 | Validation 0.0272\n",
            "Epoch 16/25 || Loss:  Train 0.0218 | Validation 0.0274\n",
            "Epoch 17/25 || Loss:  Train 0.0214 | Validation 0.0266\n",
            "Epoch 18/25 || Loss:  Train 0.0209 | Validation 0.0260\n",
            "Epoch 19/25 || Loss:  Train 0.0205 | Validation 0.0263\n",
            "Epoch 20/25 || Loss:  Train 0.0202 | Validation 0.0254\n",
            "Epoch 21/25 || Loss:  Train 0.0199 | Validation 0.0250\n",
            "Epoch 22/25 || Loss:  Train 0.0198 | Validation 0.0250\n",
            "Epoch 23/25 || Loss:  Train 0.0195 | Validation 0.0249\n",
            "Epoch 24/25 || Loss:  Train 0.0193 | Validation 0.0245\n",
            "Epoch 25/25 || Loss:  Train 0.0190 | Validation 0.0244\n"
          ],
          "name": "stdout"
        }
      ]
    },
    {
      "cell_type": "markdown",
      "metadata": {
        "id": "cXCR-eKBBuRI"
      },
      "source": [
        "#### 8.3 Plot any 10 images and their reconstructions."
      ]
    },
    {
      "cell_type": "code",
      "metadata": {
        "id": "ggGOxCc4Bvm5",
        "colab": {
          "base_uri": "https://localhost:8080/",
          "height": 290
        },
        "outputId": "2e5dd948-b048-4ad5-ec9c-da09bbc064c8"
      },
      "source": [
        "# BEGIN SOLUTION (do not delete this comment!)\n",
        "# net.to(device)\n",
        "fig, ax = plt.subplots(ncols=10, nrows=2, figsize=(20, 5))\n",
        "for i in range(10):\n",
        "    im = train_kmnist[i][0]\n",
        "\n",
        "    ax[0, i].imshow(im.reshape(28, 28))\n",
        "    rec = net(im.to(device).unsqueeze(0)) # >>> your solution here <<<\n",
        "    ax[1, i].imshow(rec.detach().cpu().numpy().reshape(28, 28))# >>> your solution here <<<;\n",
        "\n",
        "    ax[0, i].set_title('original')\n",
        "    ax[1, i].set_title('reconstruction')\n",
        "    ax[0, i].axis('off')\n",
        "    ax[1, i].axis('off')\n",
        "        \n",
        "# END Solution (do not delete this comment!)"
      ],
      "execution_count": 29,
      "outputs": [
        {
          "output_type": "display_data",
          "data": {
            "image/png": "[encoded data removed]",
            "text/plain": [
              "<Figure size 1440x360 with 20 Axes>"
            ]
          },
          "metadata": {
            "tags": [],
            "needs_background": "light"
          }
        }
      ]
    },
    {
      "cell_type": "markdown",
      "metadata": {
        "id": "1seXNwq3KoYM"
      },
      "source": [
        "## Task 9. Convolutional NN (4 points)\n",
        "\n",
        "\n",
        "In this task, you will need to answer two questions and train a convolution neural network for a task of sound classification. \n",
        "\n",
        "- **(1 pt.)** Debug the given convolutional neural network and explain what's wrong with it and how to fix it. You will need to identify at least 4 problems; **(sub-tasks 9.1)**\n",
        "\n",
        "- **(1 pt.)** Compute manually outputs of each layer, often when we build a neural network we need to know the output sizes of a layer before we add the next on; **(sub-tasks 9.2)**\n",
        "\n",
        "- **(2 pt.)** Build your own convolutional NN and train it for the task of sound classification. Your goal is to achieve maximum quality > 70%  1pt and > 90% 2pt. **(sub-tasks 9.3 - 9.6)**"
      ]
    },
    {
      "cell_type": "markdown",
      "metadata": {
        "id": "4fCPSsn3K22j"
      },
      "source": [
        "#### 9.1 Debug this convolutional neural network and write down proposed fixes. Ther are at least four fixes that can be applied. Explain your answers."
      ]
    },
    {
      "cell_type": "code",
      "metadata": {
        "id": "jQDXJDhFLI6a"
      },
      "source": [
        "# assuming input shape [batch, 3, 32, 32]\n",
        "cnn = nn.Sequential(\n",
        "    nn.Conv2d(in_channels=1, out_channels=512, kernel_size=(3,3)),\n",
        "    nn.Conv2d(in_channels=512, out_channels=128, kernel_size=(3,3)),\n",
        "    nn.Conv2d(in_channels=128, out_channels=10, kernel_size=(3,3)),\n",
        "    nn.ReLU(),\n",
        "    nn.MaxPool2d((1,1)),\n",
        "    nn.Conv2d(in_channels=10, out_channels=3, kernel_size=(10,10)),\n",
        "    nn.Conv2d(in_channels=3, out_channels=64, kernel_size=(10,10)),\n",
        "    nn.MaxPool2d((15,15)),\n",
        "    nn.Conv2d(in_channels=64, out_channels=128, kernel_size=(10,10)),\n",
        "    nn.Softmax(),\n",
        "    nn.Flatten(),\n",
        "    nn.Linear(64, 256),\n",
        "    nn.Softmax(),\n",
        "    nn.Linear(256, 10),\n",
        "    nn.Sigmoid(),\n",
        "    nn.Dropout(0.5)\n",
        "    \n",
        ")"
      ],
      "execution_count": 30,
      "outputs": []
    },
    {
      "cell_type": "code",
      "metadata": {
        "id": "0qomga4ALpdi"
      },
      "source": [
        "# BEGIN SOLUTION (do not delete this comment!)\n",
        "\n",
        "# Your answers:\n",
        "\n",
        "# 1. Row 1: in_channels should be 3 (as channels number of input)\n",
        "# 2. Row 5: unuseful pooling layer (it just copies the tensor)\n",
        "# 3. Row 8: pooling matrix shape is bigger than output matrix shape: (15,15) > (8, 8)\n",
        "# 4. Row 9: before the last convolution matrix shape is (8, 8), so we can't use kernel size (10, 10)\n",
        "# 5. Row 16: dropout as the final layer is a bad idea\n",
        "\n",
        "# END Solution (do not delete this comment!)"
      ],
      "execution_count": 31,
      "outputs": []
    },
    {
      "cell_type": "markdown",
      "metadata": {
        "id": "uh8BusFMQm-2"
      },
      "source": [
        "#### 9.2 Convolutional warm up, compute manually outpust shapes for each layer."
      ]
    },
    {
      "cell_type": "code",
      "metadata": {
        "id": "iGvJl1LxQoKw",
        "colab": {
          "base_uri": "https://localhost:8080/",
          "height": 231
        },
        "outputId": "fa502729-fb1e-46ca-d290-6cbd9b651e44"
      },
      "source": [
        "# Compute output shape for each and final layers wihout running the code.\n",
        "# input size x = [8, 1 , 300, 303].\n",
        "\n",
        "conv1 = Conv2d(in_chаnnels=1, out_channels=16, kernel_size=(5, 5), рadding = 0, stride=2)\n",
        "conv2 = Conv2d(in_channels=16, out_chаnnels=16, kernel_size=(3, 3), рadding = 2, stride=1)\n",
        "conv3 = Conv2d(in_channels=16, out_chаnnels=16, kernel_size=(5, 5), рadding =2, stride=2)\n",
        "maxpool1 = MаxPool2d((2, 2))\n",
        "cnn = nn.Sequential(conv1, conv2, conv3, maxpool1)\n"
      ],
      "execution_count": 32,
      "outputs": [
        {
          "output_type": "error",
          "ename": "NameError",
          "evalue": "ignored",
          "traceback": [
            "\u001b[0;31m---------------------------------------------------------------------------\u001b[0m",
            "\u001b[0;31mNameError\u001b[0m                                 Traceback (most recent call last)",
            "\u001b[0;32m<ipython-input-32-ad0663b701aa>\u001b[0m in \u001b[0;36m<module>\u001b[0;34m()\u001b[0m\n\u001b[1;32m      2\u001b[0m \u001b[0;31m# input size x = [8, 1 , 300, 303].\u001b[0m\u001b[0;34m\u001b[0m\u001b[0;34m\u001b[0m\u001b[0;34m\u001b[0m\u001b[0m\n\u001b[1;32m      3\u001b[0m \u001b[0;34m\u001b[0m\u001b[0m\n\u001b[0;32m----> 4\u001b[0;31m \u001b[0mconv1\u001b[0m \u001b[0;34m=\u001b[0m \u001b[0mConv2d\u001b[0m\u001b[0;34m(\u001b[0m\u001b[0min_chаnnels\u001b[0m\u001b[0;34m=\u001b[0m\u001b[0;36m1\u001b[0m\u001b[0;34m,\u001b[0m \u001b[0mout_channels\u001b[0m\u001b[0;34m=\u001b[0m\u001b[0;36m16\u001b[0m\u001b[0;34m,\u001b[0m \u001b[0mkernel_size\u001b[0m\u001b[0;34m=\u001b[0m\u001b[0;34m(\u001b[0m\u001b[0;36m5\u001b[0m\u001b[0;34m,\u001b[0m \u001b[0;36m5\u001b[0m\u001b[0;34m)\u001b[0m\u001b[0;34m,\u001b[0m \u001b[0mрadding\u001b[0m \u001b[0;34m=\u001b[0m \u001b[0;36m0\u001b[0m\u001b[0;34m,\u001b[0m \u001b[0mstride\u001b[0m\u001b[0;34m=\u001b[0m\u001b[0;36m2\u001b[0m\u001b[0;34m)\u001b[0m\u001b[0;34m\u001b[0m\u001b[0;34m\u001b[0m\u001b[0m\n\u001b[0m\u001b[1;32m      5\u001b[0m \u001b[0mconv2\u001b[0m \u001b[0;34m=\u001b[0m \u001b[0mConv2d\u001b[0m\u001b[0;34m(\u001b[0m\u001b[0min_channels\u001b[0m\u001b[0;34m=\u001b[0m\u001b[0;36m16\u001b[0m\u001b[0;34m,\u001b[0m \u001b[0mout_chаnnels\u001b[0m\u001b[0;34m=\u001b[0m\u001b[0;36m16\u001b[0m\u001b[0;34m,\u001b[0m \u001b[0mkernel_size\u001b[0m\u001b[0;34m=\u001b[0m\u001b[0;34m(\u001b[0m\u001b[0;36m3\u001b[0m\u001b[0;34m,\u001b[0m \u001b[0;36m3\u001b[0m\u001b[0;34m)\u001b[0m\u001b[0;34m,\u001b[0m \u001b[0mрadding\u001b[0m \u001b[0;34m=\u001b[0m \u001b[0;36m2\u001b[0m\u001b[0;34m,\u001b[0m \u001b[0mstride\u001b[0m\u001b[0;34m=\u001b[0m\u001b[0;36m1\u001b[0m\u001b[0;34m)\u001b[0m\u001b[0;34m\u001b[0m\u001b[0;34m\u001b[0m\u001b[0m\n\u001b[1;32m      6\u001b[0m \u001b[0mconv3\u001b[0m \u001b[0;34m=\u001b[0m \u001b[0mConv2d\u001b[0m\u001b[0;34m(\u001b[0m\u001b[0min_channels\u001b[0m\u001b[0;34m=\u001b[0m\u001b[0;36m16\u001b[0m\u001b[0;34m,\u001b[0m \u001b[0mout_chаnnels\u001b[0m\u001b[0;34m=\u001b[0m\u001b[0;36m16\u001b[0m\u001b[0;34m,\u001b[0m \u001b[0mkernel_size\u001b[0m\u001b[0;34m=\u001b[0m\u001b[0;34m(\u001b[0m\u001b[0;36m5\u001b[0m\u001b[0;34m,\u001b[0m \u001b[0;36m5\u001b[0m\u001b[0;34m)\u001b[0m\u001b[0;34m,\u001b[0m \u001b[0mрadding\u001b[0m \u001b[0;34m=\u001b[0m\u001b[0;36m2\u001b[0m\u001b[0;34m,\u001b[0m \u001b[0mstride\u001b[0m\u001b[0;34m=\u001b[0m\u001b[0;36m2\u001b[0m\u001b[0;34m)\u001b[0m\u001b[0;34m\u001b[0m\u001b[0;34m\u001b[0m\u001b[0m\n",
            "\u001b[0;31mNameError\u001b[0m: name 'Conv2d' is not defined"
          ]
        }
      ]
    },
    {
      "cell_type": "code",
      "metadata": {
        "id": "2ly8YywpLMKh"
      },
      "source": [
        "# BEGIN SOLUTION (do not delete this comment!)\n",
        "\n",
        "# example:\n",
        "\n",
        "# conv1 \n",
        "# output_h = (300 - 5+0) /2 +1 = 148\n",
        "# output_w = (303 - 5+0) /2 +1 = 150\n",
        "\n",
        "# Continue for all the layers:\n",
        "\n",
        "### BEGIN Souluion\n",
        "\n",
        "# conv2 \n",
        "# output_h = (148 - 3+4) +1 = 150\n",
        "# output_w = (150 - 3+4) +1 = 152\n",
        "\n",
        "# conv3 \n",
        "# output_h = (150 - 5+4) /2 +1 = 75\n",
        "# output_w = (152 - 5+4) /2 +1 = 76\n",
        "\n",
        "# maxpool1 = MaxPool2d((2, 2))\n",
        "# output_h = (75 - 2+0) /2 +1 = 37\n",
        "# output_w = (76 - 2+0) /2 +1 = 38\n",
        "\n",
        "# final layer output = [8, 16, 37, 38] \n",
        "\n",
        "# END Solution (do not delete this comment!)"
      ],
      "execution_count": null,
      "outputs": []
    },
    {
      "cell_type": "markdown",
      "metadata": {
        "id": "1D1z6WEjfZwT"
      },
      "source": [
        "#### 9.3 Convolutional networks for sound classication\n",
        "\n",
        "- Now your task is to classify sounds using the convolutional network. You can use different network architectures. And your goal is to get the highest score possible.\n",
        "\n",
        "- First of all, we will preprocess audio into spectrograms, that you will be able to treat them as images."
      ]
    },
    {
      "cell_type": "code",
      "metadata": {
        "id": "t7BsAPwYfv6X",
        "colab": {
          "base_uri": "https://localhost:8080/"
        },
        "outputId": "938dcdfd-f4d9-4a13-eb7f-c63e9eda700c"
      },
      "source": [
        "# imports\n",
        "\n",
        "import os\n",
        "import torch\n",
        "import numpy as np\n",
        "import torch.nn as nn\n",
        "from torch import Tensor\n",
        "\n",
        "!pip install torchaudio\n",
        "import torchaudio\n",
        "from torchaudio import transforms\n",
        "from IPython.display import Audio\n",
        "import torch.nn.functional as F\n",
        "from torch.utils.data import DataLoader,random_split,Dataset\n",
        "\n",
        "import matplotlib.pyplot as plt\n",
        "from sklearn.metrics import confusion_matrix, accuracy_score"
      ],
      "execution_count": 33,
      "outputs": [
        {
          "output_type": "stream",
          "text": [
            "Requirement already satisfied: torchaudio in /usr/local/lib/python3.7/dist-packages (0.8.0)\n",
            "Requirement already satisfied: torch==1.8.0 in /usr/local/lib/python3.7/dist-packages (from torchaudio) (1.8.0+cu101)\n",
            "Requirement already satisfied: typing-extensions in /usr/local/lib/python3.7/dist-packages (from torch==1.8.0->torchaudio) (3.7.4.3)\n",
            "Requirement already satisfied: numpy in /usr/local/lib/python3.7/dist-packages (from torch==1.8.0->torchaudio) (1.19.5)\n"
          ],
          "name": "stdout"
        }
      ]
    },
    {
      "cell_type": "code",
      "metadata": {
        "id": "lRCcakoVgFDK"
      },
      "source": [
        "# Get the dataset\n",
        "\n",
        "dataset = torchaudio.datasets.SPEECHCOMMANDS('./' , url = 'speech_commands_v0.02', \n",
        "                                       folder_in_archive= 'SpeechCommands', download = True)"
      ],
      "execution_count": 34,
      "outputs": []
    },
    {
      "cell_type": "markdown",
      "metadata": {
        "id": "kUE5grAGj9SN"
      },
      "source": [
        "### Let's look at the dataset."
      ]
    },
    {
      "cell_type": "code",
      "metadata": {
        "colab": {
          "base_uri": "https://localhost:8080/",
          "height": 282
        },
        "id": "85jqMauLhNER",
        "outputId": "c5ed48d2-f78e-4253-d062-350541cf3f3f"
      },
      "source": [
        "plt.figure()\n",
        "plt.plot(dataset[0][0].t())"
      ],
      "execution_count": 35,
      "outputs": [
        {
          "output_type": "execute_result",
          "data": {
            "text/plain": [
              "[<matplotlib.lines.Line2D at 0x7f6801253750>]"
            ]
          },
          "metadata": {
            "tags": []
          },
          "execution_count": 35
        },
        {
          "output_type": "display_data",
          "data": {
            "image/png": "[encoded data removed]",
            "text/plain": [
              "<Figure size 432x288 with 1 Axes>"
            ]
          },
          "metadata": {
            "tags": [],
            "needs_background": "light"
          }
        }
      ]
    },
    {
      "cell_type": "code",
      "metadata": {
        "colab": {
          "base_uri": "https://localhost:8080/",
          "height": 92
        },
        "id": "CYGRUGnghIYY",
        "outputId": "2feb2c53-2f1a-4ded-c2e2-017f0a4068d9"
      },
      "source": [
        "print('Label: ',dataset[11760][2])\n",
        "Audio(np.array(dataset[11760][0].t()).reshape(-1), rate=16000)"
      ],
      "execution_count": 36,
      "outputs": [
        {
          "output_type": "stream",
          "text": [
            "Label:  down\n"
          ],
          "name": "stdout"
        },
        {
          "output_type": "execute_result",
          "data": {
            "text/html": [
              "\n",
              "                <audio controls=\"controls\" >\n",
              "                    <source src=\"data:audio/wav;base64,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\" type=\"audio/wav\" />\n",
              "                    Your browser does not support the audio element.\n",
              "                </audio>\n",
              "              "
            ],
            "text/plain": [
              "<IPython.lib.display.Audio object>"
            ]
          },
          "metadata": {
            "tags": []
          },
          "execution_count": 36
        }
      ]
    },
    {
      "cell_type": "markdown",
      "metadata": {
        "id": "tMBl98nnkRcr"
      },
      "source": [
        "#### Actually, we could use really long sequences to classify our samples but it's better to work with them as spectrograms so we can use convolutional layers."
      ]
    },
    {
      "cell_type": "code",
      "metadata": {
        "colab": {
          "base_uri": "https://localhost:8080/",
          "height": 339
        },
        "id": "ZysQUugGkWPB",
        "outputId": "3809a790-8d0c-4959-953f-dd782cb11170"
      },
      "source": [
        "specgram = torchaudio.transforms.Spectrogram(n_fft=200, normalized=True)(dataset[77][0])\n",
        "\n",
        "print(\"Shape of spectrogram: {}\".format(specgram.size()))\n",
        "\n",
        "plt.figure(figsize=(10,5))\n",
        "plt.imshow(specgram[0,:,:].numpy());\n",
        "plt.colorbar()\n",
        "plt.show()\n"
      ],
      "execution_count": 37,
      "outputs": [
        {
          "output_type": "stream",
          "text": [
            "Shape of spectrogram: torch.Size([1, 101, 161])\n"
          ],
          "name": "stdout"
        },
        {
          "output_type": "display_data",
          "data": {
            "image/png": "[encoded data removed]",
            "text/plain": [
              "<Figure size 720x360 with 2 Axes>"
            ]
          },
          "metadata": {
            "tags": [],
            "needs_background": "light"
          }
        }
      ]
    },
    {
      "cell_type": "code",
      "metadata": {
        "id": "yylTFJjPo57s"
      },
      "source": [
        "# Some preprocessing routine\n",
        "# Filter samples only with 16000 sampling rate\n",
        "# Make labels dictionary\n",
        "\n",
        "count = 0\n",
        "wave = []\n",
        "labels = []\n",
        "labels_dict = {}\n",
        "\n",
        "for i in range(0,105829):\n",
        "    if dataset[i][0].shape == (1,16000):\n",
        "        wave.append(dataset[i][0])\n",
        "        labels.append(dataset[i][2])\n",
        "\n"
      ],
      "execution_count": 38,
      "outputs": []
    },
    {
      "cell_type": "code",
      "metadata": {
        "colab": {
          "base_uri": "https://localhost:8080/"
        },
        "id": "YD4Ds2BhqX4T",
        "outputId": "cf0d3629-d188-4bdd-aa96-f54fc8687a3f"
      },
      "source": [
        "set_labels = list(set(labels))\n",
        "labels_dict = {set_labels[i] :i for i in range(len(set_labels))}\n",
        "labels_dict"
      ],
      "execution_count": 39,
      "outputs": [
        {
          "output_type": "execute_result",
          "data": {
            "text/plain": [
              "{'backward': 24,\n",
              " 'bed': 20,\n",
              " 'bird': 34,\n",
              " 'cat': 26,\n",
              " 'dog': 31,\n",
              " 'down': 1,\n",
              " 'eight': 12,\n",
              " 'five': 4,\n",
              " 'follow': 19,\n",
              " 'forward': 15,\n",
              " 'four': 6,\n",
              " 'go': 9,\n",
              " 'happy': 2,\n",
              " 'house': 7,\n",
              " 'learn': 28,\n",
              " 'left': 17,\n",
              " 'marvin': 27,\n",
              " 'nine': 22,\n",
              " 'no': 33,\n",
              " 'off': 3,\n",
              " 'on': 30,\n",
              " 'one': 8,\n",
              " 'right': 32,\n",
              " 'seven': 0,\n",
              " 'sheila': 18,\n",
              " 'six': 14,\n",
              " 'stop': 11,\n",
              " 'three': 23,\n",
              " 'tree': 25,\n",
              " 'two': 16,\n",
              " 'up': 13,\n",
              " 'visual': 21,\n",
              " 'wow': 5,\n",
              " 'yes': 29,\n",
              " 'zero': 10}"
            ]
          },
          "metadata": {
            "tags": []
          },
          "execution_count": 39
        }
      ]
    },
    {
      "cell_type": "markdown",
      "metadata": {
        "id": "W5tkVQDTnMvD"
      },
      "source": [
        "#### 9.4 Your task right now is to implement a speech dataloader it will be almost the same as in the previous tasks."
      ]
    },
    {
      "cell_type": "code",
      "metadata": {
        "id": "kuGvJ4EDm90d"
      },
      "source": [
        "transformation = torchaudio.transforms.Spectrogram(n_fft=200, normalized=True)\n",
        "\n",
        "### BEGIN Solution\n",
        "\n",
        "class SpeechDataLoader(Dataset):\n",
        "    \n",
        "    def __init__(self, data, labels, label_dict, transform=None):\n",
        "        self.data = data\n",
        "        self.labels = labels\n",
        "        self.label_dict = label_dict\n",
        "        self.transform = transform\n",
        "            \n",
        "    def __len__(self):\n",
        "        return len(self.labels) # >> Your code is here << #    \n",
        "    \n",
        "    def __getitem__(self, idx):\n",
        "        waveform = self.data[idx] # >> Your code is here << #    \n",
        "        specgram = self.transform(waveform) # >> Your code is here << #    \n",
        "\n",
        "        if self.labels[idx] in self.label_dict:\n",
        "            label = self.label_dict[self.labels[idx]]\n",
        "\n",
        "        return specgram, label\n",
        "    \n",
        "# END Solution (do not delete this comment!)"
      ],
      "execution_count": 40,
      "outputs": []
    },
    {
      "cell_type": "code",
      "metadata": {
        "id": "OarKlZWooQbS"
      },
      "source": [
        "torch.manual_seed(0)\n",
        "\n",
        "dataset= SpeechDataLoader(wave, labels, labels_dict, transformation)\n",
        "\n",
        "traindata, testdata = random_split(dataset, [round(len(dataset)*.8), round(len(dataset)*.2)], )\n",
        "\n",
        "train_loader = DataLoader(traindata, batch_size=100, shuffle=True)\n",
        "\n",
        "val_loader = DataLoader(testdata, batch_size=100, shuffle=True)"
      ],
      "execution_count": 41,
      "outputs": []
    },
    {
      "cell_type": "markdown",
      "metadata": {
        "id": "gQxaAGoBuLRR"
      },
      "source": [
        "#### 9.5 Your task is to build a convolutional neural network that  yields a high score."
      ]
    },
    {
      "cell_type": "code",
      "metadata": {
        "id": "ryDzP0l9s4Pi"
      },
      "source": [
        "# # BEGIN Solution  (do not delete this comment!)\n",
        "\n",
        "# class NN2D(nn.Module):\n",
        "#     def __init__(self, num_class):\n",
        "#         super(NN2D,self).__init__()\n",
        "#         self.num_class = num_class\n",
        "\n",
        "#         self.conv1 = nn.Sequential(\n",
        "#             nn.Conv2d(in_channels=1, out_channels=64, kernel_size=7, stride=2),\n",
        "#             nn.ReLU()\n",
        "#         )\n",
        "#         self.conv2_x = nn.Sequential(\n",
        "#             nn.MaxPool2d(kernel_size=2, stride=2),\n",
        "#             nn.Conv2d(in_channels=64, out_channels=64, kernel_size=3),\n",
        "#             nn.Conv2d(in_channels=64, out_channels=64, kernel_size=3),\n",
        "#             nn.Conv2d(in_channels=64, out_channels=64, kernel_size=3),\n",
        "#             nn.Conv2d(in_channels=64, out_channels=64, kernel_size=3),\n",
        "#             nn.ReLU()\n",
        "#         )\n",
        "#         self.conv3_x = nn.Sequential(\n",
        "#             nn.Conv2d(in_channels=64, out_channels=128, kernel_size=3),\n",
        "#             nn.Conv2d(in_channels=128, out_channels=128, kernel_size=3),\n",
        "#             nn.Conv2d(in_channels=128, out_channels=128, kernel_size=3),\n",
        "#             nn.Conv2d(in_channels=128, out_channels=128, kernel_size=3),\n",
        "#             nn.ReLU()\n",
        "#         )\n",
        "#         self.conv4_x = nn.Sequential(\n",
        "#             nn.Conv2d(in_channels=128, out_channels=256, kernel_size=3),\n",
        "#             nn.Conv2d(in_channels=256, out_channels=256, kernel_size=3),\n",
        "#             nn.Conv2d(in_channels=256, out_channels=256, kernel_size=3),\n",
        "#             nn.Conv2d(in_channels=256, out_channels=256, kernel_size=3),\n",
        "#             nn.ReLU()\n",
        "#         )\n",
        "#         self.conv5_x = nn.Sequential(\n",
        "#             nn.Conv2d(in_channels=256, out_channels=512, kernel_size=3),\n",
        "#             nn.Conv2d(in_channels=512, out_channels=512, kernel_size=3),\n",
        "#             nn.Conv2d(in_channels=512, out_channels=512, kernel_size=3),\n",
        "#             nn.Conv2d(in_channels=512, out_channels=512, kernel_size=3),\n",
        "#             nn.ReLU()\n",
        "#         )\n",
        "#         self.final_layer = nn.Sequential(\n",
        "#             nn.AvgPool2d(kernel_size=7),\n",
        "#             nn.Linear(512, self.num_class)\n",
        "#         )\n",
        "        \n",
        "    \n",
        "#     def forward(self, x):\n",
        "        \n",
        "#         # >> YOUR CODE GOES << #\n",
        "#         x = self.conv1(x)\n",
        "#         x = self.conv2_x(x)\n",
        "#         x = self.conv3_x(x)\n",
        "#         x = self.conv4_x(x)\n",
        "#         x = self.conv5_x(x)\n",
        "#         out = self.final_layer(x)\n",
        "\n",
        "#         return out \n",
        "    \n",
        "# # END Solution (do not delete this comment!)"
      ],
      "execution_count": 42,
      "outputs": []
    },
    {
      "cell_type": "code",
      "metadata": {
        "id": "1gtT2FWddpiG"
      },
      "source": [
        "# BEGIN Solution  (do not delete this comment!)\n",
        "\n",
        "class NN2D(nn.Module):\n",
        "    def __init__(self, num_class):\n",
        "        super(NN2D,self).__init__()\n",
        "        self.num_class = num_class\n",
        "\n",
        "        self.conv1_x = nn.Sequential(\n",
        "            nn.Conv2d(in_channels=1, out_channels=64, kernel_size=3, padding=1),\n",
        "            nn.ReLU(),\n",
        "            nn.Conv2d(in_channels=64, out_channels=64, kernel_size=3, padding=1),\n",
        "            nn.ReLU(),\n",
        "            nn.MaxPool2d(kernel_size=2, stride=2)\n",
        "        )\n",
        "        self.conv2_x = nn.Sequential(\n",
        "            nn.Conv2d(in_channels=64, out_channels=128, kernel_size=3, padding=1),\n",
        "            nn.ReLU(),\n",
        "            nn.Conv2d(in_channels=128, out_channels=128, kernel_size=3, padding=1),\n",
        "            nn.ReLU(),\n",
        "            nn.MaxPool2d(kernel_size=2, stride=2)\n",
        "        )\n",
        "        self.conv3_x = nn.Sequential(\n",
        "            nn.Conv2d(in_channels=128, out_channels=256, kernel_size=3, padding=1),\n",
        "            nn.ReLU(),\n",
        "            nn.Conv2d(in_channels=256, out_channels=256, kernel_size=3, padding=1),\n",
        "            nn.ReLU(),\n",
        "            nn.MaxPool2d(kernel_size=2, stride=2),\n",
        "            nn.MaxPool2d(kernel_size=2, stride=2),\n",
        "            nn.MaxPool2d(kernel_size=2, stride=2)\n",
        "        )\n",
        "        # self.conv4_x = nn.Sequential(\n",
        "        #     nn.Conv2d(in_channels=256, out_channels=512, kernel_size=3, padding=1),\n",
        "        #     nn.ReLU(),\n",
        "        #     nn.Conv2d(in_channels=512, out_channels=512, kernel_size=3, padding=1),\n",
        "        #     nn.ReLU(),\n",
        "        #     nn.Conv2d(in_channels=512, out_channels=512, kernel_size=3),\n",
        "        #     nn.ReLU(),\n",
        "        #     nn.MaxPool2d(kernel_size=2, stride=2)\n",
        "        # )\n",
        "        # self.conv5_x = nn.Sequential(\n",
        "        #     nn.Conv2d(in_channels=512, out_channels=512, kernel_size=3, padding=1),\n",
        "        #     nn.ReLU(),\n",
        "        #     nn.Conv2d(in_channels=512, out_channels=512, kernel_size=3, padding=1),\n",
        "        #     nn.ReLU(),\n",
        "        #     nn.Conv2d(in_channels=512, out_channels=512, kernel_size=3, padding=1),\n",
        "        #     nn.ReLU(),\n",
        "        #     nn.MaxPool2d(kernel_size=2, stride=2)\n",
        "        # )\n",
        "        self.final_layer = nn.Sequential(\n",
        "            nn.Flatten(),\n",
        "            nn.Linear(256 * 4 * 6, 4096),\n",
        "            nn.ReLU(),\n",
        "            nn.Linear(4096, 4096),\n",
        "            nn.ReLU(),\n",
        "            nn.Linear(4096, self.num_class)\n",
        "        )\n",
        "\n",
        "    def forward(self, x):\n",
        "        \n",
        "        # >> YOUR CODE GOES << #\n",
        "        x = self.conv1_x(x)\n",
        "        x = self.conv2_x(x)\n",
        "        x = self.conv3_x(x)\n",
        "        # x = self.conv4_x(x)\n",
        "        out = self.final_layer(x)\n",
        "\n",
        "        return out \n",
        "    \n",
        "# END Solution (do not delete this comment!)"
      ],
      "execution_count": 43,
      "outputs": []
    },
    {
      "cell_type": "code",
      "metadata": {
        "id": "Veda_Qu9lSry"
      },
      "source": [
        "# # BEGIN Solution  (do not delete this comment!)\n",
        "\n",
        "# class NN2D(nn.Module):\n",
        "#     def __init__(self, num_class):\n",
        "#         super(NN2D,self).__init__()\n",
        "#         self.num_class = num_class\n",
        "\n",
        "#         self.conv = nn.Sequential(\n",
        "#             nn.Conv2d(in_channels=1, out_channels=64, kernel_size=3),\n",
        "#             nn.ReLU(),\n",
        "#             nn.Conv2d(in_channels=64, out_channels=128, kernel_size=5),\n",
        "#             nn.ReLU(),\n",
        "#             nn.MaxPool2d(kernel_size=2)\n",
        "#         )\n",
        "#         self.final_layer = nn.Sequential(\n",
        "#             nn.Flatten(),\n",
        "#             nn.Linear(128 * 47 * 77, 10000),\n",
        "#             nn.ReLU(),\n",
        "#             nn.Linear(10000, 1000),\n",
        "#             nn.ReLU(),\n",
        "#             nn.Linear(1000, self.num_class)\n",
        "#         )\n",
        "\n",
        "#     def forward(self, x):\n",
        "        \n",
        "#         # >> YOUR CODE GOES << #\n",
        "#         x = self.conv(x)\n",
        "#         out = self.final_layer(x)\n",
        "\n",
        "#         return out \n",
        "    \n",
        "# # END Solution (do not delete this comment!)"
      ],
      "execution_count": 44,
      "outputs": []
    },
    {
      "cell_type": "code",
      "metadata": {
        "id": "_Ev8ZHfquAMH"
      },
      "source": [
        "# BEGIN Solution  (do not delete this comment!)\n",
        "\n",
        "net = NN2D(num_class=len(labels_dict))# >> Your code is here << #    \n",
        "\n",
        "criterion = nn.CrossEntropyLoss() # >> Your code is here << #    \n",
        "optimizer = torch.optim.SGD(net.parameters(), lr=1e-1)# >> Your code is here << #    \n",
        "scheduler = None # >> Your code is here << #    \n",
        "\n",
        "# END Solution (do not delete this comment!)"
      ],
      "execution_count": 45,
      "outputs": []
    },
    {
      "cell_type": "markdown",
      "metadata": {
        "id": "NpgUGDXJvIhk"
      },
      "source": [
        "#### 9.6 Almost there, now, we need to rewrite our training loop a little bit."
      ]
    },
    {
      "cell_type": "code",
      "metadata": {
        "id": "k7BqVHuSvEhZ"
      },
      "source": [
        "def train(epochs, net, criterion, optimizer, train_loader, val_loader, scheduler=None, verbose=True, device='cpu'):\n",
        "    net.to(device)\n",
        "    freq = max(epochs//15,1)\n",
        " \n",
        "    for epoch in range(1, epochs+1):\n",
        "        net.train()\n",
        "\n",
        "        losses_train = []\n",
        "        for X, target in train_loader:\n",
        "            X, target = X.to(device), target.to(device)\n",
        "            \n",
        "            ### BEGIN Solution  (do not delete this comment!)\n",
        "            \n",
        "            # Perform one step of minibatch stochastic gradient descent\n",
        "            \n",
        "            # >>> your solution here <<<\n",
        "            output = net(X)\n",
        "            loss = criterion(output, target)\n",
        "            optimizer.zero_grad()\n",
        "            loss.backward()\n",
        "            optimizer.step()\n",
        "\n",
        "            losses_train.append(loss.item())\n",
        "        \n",
        "            # END Solution (do not delete this comment!)\n",
        "            \n",
        "        if scheduler is not None:\n",
        "            scheduler.step()\n",
        "        \n",
        "        if verbose and epoch%freq==0:\n",
        "            y_pred_val =  []\n",
        "            y_true_val = []\n",
        "\n",
        "            net.eval()\n",
        "            for X, target in val_loader:\n",
        "                X, target = X.to(device), target.to(device)\n",
        "                losses_val = []\n",
        "                \n",
        "                # BEGIN Solution  (do not delete this comment!)\n",
        "                \n",
        "                # Compute the validation loss\n",
        "                # >>> your solution here <<<\n",
        "                output = net(X)\n",
        "                loss = criterion(output, target)\n",
        "                losses_val.append(loss)\n",
        "                \n",
        "                # END Solution (do not delete this comment!)\n",
        "                \n",
        "                y_pred_val.extend(target_hat_val.argmax(1).tolist())\n",
        "                y_true_val.extend(target.tolist())\n",
        "\n",
        "            mean_val = sum(losses_val)/len(losses_val)\n",
        "            mean_train = sum(losses_train)/len(losses_train)\n",
        "\n",
        "            print('Val epoch {}'.format(epoch), \\\n",
        "              ', Loss : {:.3}'.format(mean_train), \\\n",
        "              ', Accuracy on test: {:.3}'.format(accuracy_score(y_true_val, y_pred_val)) )\n"
      ],
      "execution_count": 48,
      "outputs": []
    },
    {
      "cell_type": "code",
      "metadata": {
        "id": "VjHENdc_uqc7",
        "colab": {
          "base_uri": "https://localhost:8080/",
          "height": 306
        },
        "outputId": "84d946a8-80b2-43a3-c740-cec2bf1b12f1"
      },
      "source": [
        "train(60, net, criterion, optimizer, train_loader, val_loader, scheduler, device='cuda:0')"
      ],
      "execution_count": 49,
      "outputs": [
        {
          "output_type": "error",
          "ename": "RuntimeError",
          "evalue": "ignored",
          "traceback": [
            "\u001b[0;31m---------------------------------------------------------------------------\u001b[0m",
            "\u001b[0;31mRuntimeError\u001b[0m                              Traceback (most recent call last)",
            "\u001b[0;32m<ipython-input-49-bd6aa157a260>\u001b[0m in \u001b[0;36m<module>\u001b[0;34m()\u001b[0m\n\u001b[0;32m----> 1\u001b[0;31m \u001b[0mtrain\u001b[0m\u001b[0;34m(\u001b[0m\u001b[0;36m60\u001b[0m\u001b[0;34m,\u001b[0m \u001b[0mnet\u001b[0m\u001b[0;34m,\u001b[0m \u001b[0mcriterion\u001b[0m\u001b[0;34m,\u001b[0m \u001b[0moptimizer\u001b[0m\u001b[0;34m,\u001b[0m \u001b[0mtrain_loader\u001b[0m\u001b[0;34m,\u001b[0m \u001b[0mval_loader\u001b[0m\u001b[0;34m,\u001b[0m \u001b[0mscheduler\u001b[0m\u001b[0;34m,\u001b[0m \u001b[0mdevice\u001b[0m\u001b[0;34m=\u001b[0m\u001b[0;34m'cuda:0'\u001b[0m\u001b[0;34m)\u001b[0m\u001b[0;34m\u001b[0m\u001b[0;34m\u001b[0m\u001b[0m\n\u001b[0m",
            "\u001b[0;32m<ipython-input-48-aae25e2e04a1>\u001b[0m in \u001b[0;36mtrain\u001b[0;34m(epochs, net, criterion, optimizer, train_loader, val_loader, scheduler, verbose, device)\u001b[0m\n\u001b[1;32m     15\u001b[0m \u001b[0;34m\u001b[0m\u001b[0m\n\u001b[1;32m     16\u001b[0m             \u001b[0;31m# >>> your solution here <<<\u001b[0m\u001b[0;34m\u001b[0m\u001b[0;34m\u001b[0m\u001b[0;34m\u001b[0m\u001b[0m\n\u001b[0;32m---> 17\u001b[0;31m             \u001b[0moutput\u001b[0m \u001b[0;34m=\u001b[0m \u001b[0mnet\u001b[0m\u001b[0;34m(\u001b[0m\u001b[0mX\u001b[0m\u001b[0;34m)\u001b[0m\u001b[0;34m\u001b[0m\u001b[0;34m\u001b[0m\u001b[0m\n\u001b[0m\u001b[1;32m     18\u001b[0m             \u001b[0mloss\u001b[0m \u001b[0;34m=\u001b[0m \u001b[0mcriterion\u001b[0m\u001b[0;34m(\u001b[0m\u001b[0moutput\u001b[0m\u001b[0;34m,\u001b[0m \u001b[0mtarget\u001b[0m\u001b[0;34m)\u001b[0m\u001b[0;34m\u001b[0m\u001b[0;34m\u001b[0m\u001b[0m\n\u001b[1;32m     19\u001b[0m             \u001b[0moptimizer\u001b[0m\u001b[0;34m.\u001b[0m\u001b[0mzero_grad\u001b[0m\u001b[0;34m(\u001b[0m\u001b[0;34m)\u001b[0m\u001b[0;34m\u001b[0m\u001b[0;34m\u001b[0m\u001b[0m\n",
            "\u001b[0;32m/usr/local/lib/python3.7/dist-packages/torch/nn/modules/module.py\u001b[0m in \u001b[0;36m_call_impl\u001b[0;34m(self, *input, **kwargs)\u001b[0m\n\u001b[1;32m    887\u001b[0m             \u001b[0mresult\u001b[0m \u001b[0;34m=\u001b[0m \u001b[0mself\u001b[0m\u001b[0;34m.\u001b[0m\u001b[0m_slow_forward\u001b[0m\u001b[0;34m(\u001b[0m\u001b[0;34m*\u001b[0m\u001b[0minput\u001b[0m\u001b[0;34m,\u001b[0m \u001b[0;34m**\u001b[0m\u001b[0mkwargs\u001b[0m\u001b[0;34m)\u001b[0m\u001b[0;34m\u001b[0m\u001b[0;34m\u001b[0m\u001b[0m\n\u001b[1;32m    888\u001b[0m         \u001b[0;32melse\u001b[0m\u001b[0;34m:\u001b[0m\u001b[0;34m\u001b[0m\u001b[0;34m\u001b[0m\u001b[0m\n\u001b[0;32m--> 889\u001b[0;31m             \u001b[0mresult\u001b[0m \u001b[0;34m=\u001b[0m \u001b[0mself\u001b[0m\u001b[0;34m.\u001b[0m\u001b[0mforward\u001b[0m\u001b[0;34m(\u001b[0m\u001b[0;34m*\u001b[0m\u001b[0minput\u001b[0m\u001b[0;34m,\u001b[0m \u001b[0;34m**\u001b[0m\u001b[0mkwargs\u001b[0m\u001b[0;34m)\u001b[0m\u001b[0;34m\u001b[0m\u001b[0;34m\u001b[0m\u001b[0m\n\u001b[0m\u001b[1;32m    890\u001b[0m         for hook in itertools.chain(\n\u001b[1;32m    891\u001b[0m                 \u001b[0m_global_forward_hooks\u001b[0m\u001b[0;34m.\u001b[0m\u001b[0mvalues\u001b[0m\u001b[0;34m(\u001b[0m\u001b[0;34m)\u001b[0m\u001b[0;34m,\u001b[0m\u001b[0;34m\u001b[0m\u001b[0;34m\u001b[0m\u001b[0m\n",
            "\u001b[0;32m<ipython-input-43-4aaf1fcb04ff>\u001b[0m in \u001b[0;36mforward\u001b[0;34m(self, x)\u001b[0m\n\u001b[1;32m     63\u001b[0m         \u001b[0mx\u001b[0m \u001b[0;34m=\u001b[0m \u001b[0mself\u001b[0m\u001b[0;34m.\u001b[0m\u001b[0mconv3_x\u001b[0m\u001b[0;34m(\u001b[0m\u001b[0mx\u001b[0m\u001b[0;34m)\u001b[0m\u001b[0;34m\u001b[0m\u001b[0;34m\u001b[0m\u001b[0m\n\u001b[1;32m     64\u001b[0m         \u001b[0;31m# x = self.conv4_x(x)\u001b[0m\u001b[0;34m\u001b[0m\u001b[0;34m\u001b[0m\u001b[0;34m\u001b[0m\u001b[0m\n\u001b[0;32m---> 65\u001b[0;31m         \u001b[0mout\u001b[0m \u001b[0;34m=\u001b[0m \u001b[0mself\u001b[0m\u001b[0;34m.\u001b[0m\u001b[0mfinal_layer\u001b[0m\u001b[0;34m(\u001b[0m\u001b[0mx\u001b[0m\u001b[0;34m)\u001b[0m\u001b[0;34m\u001b[0m\u001b[0;34m\u001b[0m\u001b[0m\n\u001b[0m\u001b[1;32m     66\u001b[0m \u001b[0;34m\u001b[0m\u001b[0m\n\u001b[1;32m     67\u001b[0m         \u001b[0;32mreturn\u001b[0m \u001b[0mout\u001b[0m\u001b[0;34m\u001b[0m\u001b[0;34m\u001b[0m\u001b[0m\n",
            "\u001b[0;32m/usr/local/lib/python3.7/dist-packages/torch/nn/modules/module.py\u001b[0m in \u001b[0;36m_call_impl\u001b[0;34m(self, *input, **kwargs)\u001b[0m\n\u001b[1;32m    887\u001b[0m             \u001b[0mresult\u001b[0m \u001b[0;34m=\u001b[0m \u001b[0mself\u001b[0m\u001b[0;34m.\u001b[0m\u001b[0m_slow_forward\u001b[0m\u001b[0;34m(\u001b[0m\u001b[0;34m*\u001b[0m\u001b[0minput\u001b[0m\u001b[0;34m,\u001b[0m \u001b[0;34m**\u001b[0m\u001b[0mkwargs\u001b[0m\u001b[0;34m)\u001b[0m\u001b[0;34m\u001b[0m\u001b[0;34m\u001b[0m\u001b[0m\n\u001b[1;32m    888\u001b[0m         \u001b[0;32melse\u001b[0m\u001b[0;34m:\u001b[0m\u001b[0;34m\u001b[0m\u001b[0;34m\u001b[0m\u001b[0m\n\u001b[0;32m--> 889\u001b[0;31m             \u001b[0mresult\u001b[0m \u001b[0;34m=\u001b[0m \u001b[0mself\u001b[0m\u001b[0;34m.\u001b[0m\u001b[0mforward\u001b[0m\u001b[0;34m(\u001b[0m\u001b[0;34m*\u001b[0m\u001b[0minput\u001b[0m\u001b[0;34m,\u001b[0m \u001b[0;34m**\u001b[0m\u001b[0mkwargs\u001b[0m\u001b[0;34m)\u001b[0m\u001b[0;34m\u001b[0m\u001b[0;34m\u001b[0m\u001b[0m\n\u001b[0m\u001b[1;32m    890\u001b[0m         for hook in itertools.chain(\n\u001b[1;32m    891\u001b[0m                 \u001b[0m_global_forward_hooks\u001b[0m\u001b[0;34m.\u001b[0m\u001b[0mvalues\u001b[0m\u001b[0;34m(\u001b[0m\u001b[0;34m)\u001b[0m\u001b[0;34m,\u001b[0m\u001b[0;34m\u001b[0m\u001b[0;34m\u001b[0m\u001b[0m\n",
            "\u001b[0;32m/usr/local/lib/python3.7/dist-packages/torch/nn/modules/container.py\u001b[0m in \u001b[0;36mforward\u001b[0;34m(self, input)\u001b[0m\n\u001b[1;32m    117\u001b[0m     \u001b[0;32mdef\u001b[0m \u001b[0mforward\u001b[0m\u001b[0;34m(\u001b[0m\u001b[0mself\u001b[0m\u001b[0;34m,\u001b[0m \u001b[0minput\u001b[0m\u001b[0;34m)\u001b[0m\u001b[0;34m:\u001b[0m\u001b[0;34m\u001b[0m\u001b[0;34m\u001b[0m\u001b[0m\n\u001b[1;32m    118\u001b[0m         \u001b[0;32mfor\u001b[0m \u001b[0mmodule\u001b[0m \u001b[0;32min\u001b[0m \u001b[0mself\u001b[0m\u001b[0;34m:\u001b[0m\u001b[0;34m\u001b[0m\u001b[0;34m\u001b[0m\u001b[0m\n\u001b[0;32m--> 119\u001b[0;31m             \u001b[0minput\u001b[0m \u001b[0;34m=\u001b[0m \u001b[0mmodule\u001b[0m\u001b[0;34m(\u001b[0m\u001b[0minput\u001b[0m\u001b[0;34m)\u001b[0m\u001b[0;34m\u001b[0m\u001b[0;34m\u001b[0m\u001b[0m\n\u001b[0m\u001b[1;32m    120\u001b[0m         \u001b[0;32mreturn\u001b[0m \u001b[0minput\u001b[0m\u001b[0;34m\u001b[0m\u001b[0;34m\u001b[0m\u001b[0m\n\u001b[1;32m    121\u001b[0m \u001b[0;34m\u001b[0m\u001b[0m\n",
            "\u001b[0;32m/usr/local/lib/python3.7/dist-packages/torch/nn/modules/module.py\u001b[0m in \u001b[0;36m_call_impl\u001b[0;34m(self, *input, **kwargs)\u001b[0m\n\u001b[1;32m    887\u001b[0m             \u001b[0mresult\u001b[0m \u001b[0;34m=\u001b[0m \u001b[0mself\u001b[0m\u001b[0;34m.\u001b[0m\u001b[0m_slow_forward\u001b[0m\u001b[0;34m(\u001b[0m\u001b[0;34m*\u001b[0m\u001b[0minput\u001b[0m\u001b[0;34m,\u001b[0m \u001b[0;34m**\u001b[0m\u001b[0mkwargs\u001b[0m\u001b[0;34m)\u001b[0m\u001b[0;34m\u001b[0m\u001b[0;34m\u001b[0m\u001b[0m\n\u001b[1;32m    888\u001b[0m         \u001b[0;32melse\u001b[0m\u001b[0;34m:\u001b[0m\u001b[0;34m\u001b[0m\u001b[0;34m\u001b[0m\u001b[0m\n\u001b[0;32m--> 889\u001b[0;31m             \u001b[0mresult\u001b[0m \u001b[0;34m=\u001b[0m \u001b[0mself\u001b[0m\u001b[0;34m.\u001b[0m\u001b[0mforward\u001b[0m\u001b[0;34m(\u001b[0m\u001b[0;34m*\u001b[0m\u001b[0minput\u001b[0m\u001b[0;34m,\u001b[0m \u001b[0;34m**\u001b[0m\u001b[0mkwargs\u001b[0m\u001b[0;34m)\u001b[0m\u001b[0;34m\u001b[0m\u001b[0;34m\u001b[0m\u001b[0m\n\u001b[0m\u001b[1;32m    890\u001b[0m         for hook in itertools.chain(\n\u001b[1;32m    891\u001b[0m                 \u001b[0m_global_forward_hooks\u001b[0m\u001b[0;34m.\u001b[0m\u001b[0mvalues\u001b[0m\u001b[0;34m(\u001b[0m\u001b[0;34m)\u001b[0m\u001b[0;34m,\u001b[0m\u001b[0;34m\u001b[0m\u001b[0;34m\u001b[0m\u001b[0m\n",
            "\u001b[0;32m/usr/local/lib/python3.7/dist-packages/torch/nn/modules/linear.py\u001b[0m in \u001b[0;36mforward\u001b[0;34m(self, input)\u001b[0m\n\u001b[1;32m     92\u001b[0m \u001b[0;34m\u001b[0m\u001b[0m\n\u001b[1;32m     93\u001b[0m     \u001b[0;32mdef\u001b[0m \u001b[0mforward\u001b[0m\u001b[0;34m(\u001b[0m\u001b[0mself\u001b[0m\u001b[0;34m,\u001b[0m \u001b[0minput\u001b[0m\u001b[0;34m:\u001b[0m \u001b[0mTensor\u001b[0m\u001b[0;34m)\u001b[0m \u001b[0;34m->\u001b[0m \u001b[0mTensor\u001b[0m\u001b[0;34m:\u001b[0m\u001b[0;34m\u001b[0m\u001b[0;34m\u001b[0m\u001b[0m\n\u001b[0;32m---> 94\u001b[0;31m         \u001b[0;32mreturn\u001b[0m \u001b[0mF\u001b[0m\u001b[0;34m.\u001b[0m\u001b[0mlinear\u001b[0m\u001b[0;34m(\u001b[0m\u001b[0minput\u001b[0m\u001b[0;34m,\u001b[0m \u001b[0mself\u001b[0m\u001b[0;34m.\u001b[0m\u001b[0mweight\u001b[0m\u001b[0;34m,\u001b[0m \u001b[0mself\u001b[0m\u001b[0;34m.\u001b[0m\u001b[0mbias\u001b[0m\u001b[0;34m)\u001b[0m\u001b[0;34m\u001b[0m\u001b[0;34m\u001b[0m\u001b[0m\n\u001b[0m\u001b[1;32m     95\u001b[0m \u001b[0;34m\u001b[0m\u001b[0m\n\u001b[1;32m     96\u001b[0m     \u001b[0;32mdef\u001b[0m \u001b[0mextra_repr\u001b[0m\u001b[0;34m(\u001b[0m\u001b[0mself\u001b[0m\u001b[0;34m)\u001b[0m \u001b[0;34m->\u001b[0m \u001b[0mstr\u001b[0m\u001b[0;34m:\u001b[0m\u001b[0;34m\u001b[0m\u001b[0;34m\u001b[0m\u001b[0m\n",
            "\u001b[0;32m/usr/local/lib/python3.7/dist-packages/torch/nn/functional.py\u001b[0m in \u001b[0;36mlinear\u001b[0;34m(input, weight, bias)\u001b[0m\n\u001b[1;32m   1751\u001b[0m     \u001b[0;32mif\u001b[0m \u001b[0mhas_torch_function_variadic\u001b[0m\u001b[0;34m(\u001b[0m\u001b[0minput\u001b[0m\u001b[0;34m,\u001b[0m \u001b[0mweight\u001b[0m\u001b[0;34m)\u001b[0m\u001b[0;34m:\u001b[0m\u001b[0;34m\u001b[0m\u001b[0;34m\u001b[0m\u001b[0m\n\u001b[1;32m   1752\u001b[0m         \u001b[0;32mreturn\u001b[0m \u001b[0mhandle_torch_function\u001b[0m\u001b[0;34m(\u001b[0m\u001b[0mlinear\u001b[0m\u001b[0;34m,\u001b[0m \u001b[0;34m(\u001b[0m\u001b[0minput\u001b[0m\u001b[0;34m,\u001b[0m \u001b[0mweight\u001b[0m\u001b[0;34m)\u001b[0m\u001b[0;34m,\u001b[0m \u001b[0minput\u001b[0m\u001b[0;34m,\u001b[0m \u001b[0mweight\u001b[0m\u001b[0;34m,\u001b[0m \u001b[0mbias\u001b[0m\u001b[0;34m=\u001b[0m\u001b[0mbias\u001b[0m\u001b[0;34m)\u001b[0m\u001b[0;34m\u001b[0m\u001b[0;34m\u001b[0m\u001b[0m\n\u001b[0;32m-> 1753\u001b[0;31m     \u001b[0;32mreturn\u001b[0m \u001b[0mtorch\u001b[0m\u001b[0;34m.\u001b[0m\u001b[0m_C\u001b[0m\u001b[0;34m.\u001b[0m\u001b[0m_nn\u001b[0m\u001b[0;34m.\u001b[0m\u001b[0mlinear\u001b[0m\u001b[0;34m(\u001b[0m\u001b[0minput\u001b[0m\u001b[0;34m,\u001b[0m \u001b[0mweight\u001b[0m\u001b[0;34m,\u001b[0m \u001b[0mbias\u001b[0m\u001b[0;34m)\u001b[0m\u001b[0;34m\u001b[0m\u001b[0;34m\u001b[0m\u001b[0m\n\u001b[0m\u001b[1;32m   1754\u001b[0m \u001b[0;34m\u001b[0m\u001b[0m\n\u001b[1;32m   1755\u001b[0m \u001b[0;34m\u001b[0m\u001b[0m\n",
            "\u001b[0;31mRuntimeError\u001b[0m: mat1 dim 1 must match mat2 dim 0"
          ]
        }
      ]
    },
    {
      "cell_type": "code",
      "metadata": {
        "id": "79BPut7CKyKR"
      },
      "source": [
        "Starting epoch 4 , Loss : 1.82 , Accuracy on test: 0.513\n",
        "Starting epoch 8 , Loss : 1.5 , Accuracy on test: 0.584\n",
        "Starting epoch 12 , Loss : 1.32 , Accuracy on test: 0.636\n",
        "Starting epoch 16 , Loss : 1.21 , Accuracy on test: 0.675\n",
        "Starting epoch 20 , Loss : 1.15 , Accuracy on test: 0.688\n",
        "Starting epoch 24 , Loss : 1.02 , Accuracy on test: 0.714"
      ],
      "execution_count": null,
      "outputs": []
    },
    {
      "cell_type": "code",
      "metadata": {
        "id": "aBy3LZyerH-U"
      },
      "source": [
        ""
      ],
      "execution_count": null,
      "outputs": []
    }
  ]
}